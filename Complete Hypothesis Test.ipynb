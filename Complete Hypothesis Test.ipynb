{
 "cells": [
  {
   "cell_type": "markdown",
   "id": "fd189094",
   "metadata": {},
   "source": [
    "# 1. What is hypothesis testing ?\n",
    "Hypothesis testing is a statistical method that is used in making statistical decisions using experimental data. Hypothesis Testing is basically an assumption that we make about the population parameter.\n",
    "Ex : you say avg student in class is 40 or a boy is taller than girls.\n",
    "all those example we assume need some statistic way to prove those. we need some mathematical conclusion what ever we are assuming is true."
   ]
  },
  {
   "cell_type": "markdown",
   "id": "7589d690",
   "metadata": {},
   "source": [
    "# 2. why do we use it ?\n",
    "Hypothesis testing is an essential procedure in statistics. A hypothesis test evaluates two mutually exclusive statements about a population to determine which statement is best supported by the sample data. When we say that a finding is statistically significant, it’s thanks to a hypothesis test"
   ]
  },
  {
   "cell_type": "markdown",
   "id": "74db5b90",
   "metadata": {},
   "source": [
    "# 3. what are basic of hypothesis ?\n",
    "\n",
    "\n",
    "The basic of hypothesis is normalisation and standard normalisation. all our hypothesis is revolve around basic of these 2 terms. let’s see these.\n"
   ]
  },
  {
   "cell_type": "markdown",
   "id": "ac32944f",
   "metadata": {},
   "source": [
    "# Normal Distribution -\n",
    "A variable is said to be normally distributed or have a normal distribution if its distribution has the shape of a normal curve — a special bell-shaped curve. … The graph of a normal distribution is called the normal curve, which has all of the following properties: 1. The mean, median, and mode are equal."
   ]
  },
  {
   "cell_type": "markdown",
   "id": "ba74da8f",
   "metadata": {},
   "source": [
    "# Normal distribution formula = X_new = X - X_min/X_max - X_min"
   ]
  },
  {
   "cell_type": "markdown",
   "id": "84b489ee",
   "metadata": {},
   "source": [
    "# Standardised Normal Distribution —\n",
    "A standard normal distribution is a normal distribution with mean 0 and standard deviation 1"
   ]
  },
  {
   "cell_type": "markdown",
   "id": "ae208c41",
   "metadata": {},
   "source": [
    "# formula for Standardized Normal distribution = X_new = X - μ /σ  "
   ]
  },
  {
   "cell_type": "markdown",
   "id": "b6e0315f",
   "metadata": {},
   "source": [
    "# Which are important parameter of hypothesis testing ?"
   ]
  },
  {
   "cell_type": "markdown",
   "id": "f71fee56",
   "metadata": {},
   "source": [
    "# Null hypothesis :-\n",
    "In inferential statistics, the null hypothesis is a general statement or default position that there is no relationship between two measured phenomena, or no association among groups\n",
    "In other words it is a basic assumption or made based on domain or problem knowledge.\n",
    "Example : a company production is = 50 unit/per day etc.\n"
   ]
  },
  {
   "cell_type": "code",
   "execution_count": null,
   "id": "59212867",
   "metadata": {},
   "outputs": [],
   "source": []
  },
  {
   "cell_type": "markdown",
   "id": "7260d72e",
   "metadata": {},
   "source": [
    "# Alternative hypothesis :-\n",
    "The alternative hypothesis is the hypothesis used in hypothesis testing that is contrary to the null hypothesis. It is usually taken to be that the observations are the result of a real effect (with some amount of chance variation superposed)\n",
    "Example : a company production is !=50 unit/per day etc."
   ]
  },
  {
   "cell_type": "markdown",
   "id": "136cb0f7",
   "metadata": {},
   "source": [
    "# Level of significance:"
   ]
  },
  {
   "cell_type": "markdown",
   "id": "540d3370",
   "metadata": {},
   "source": [
    " Refers to the degree of significance in which we accept or reject the null-hypothesis. 100% accuracy is not possible for accepting or rejecting a hypothesis, so we therefore select a level of significance that is usually 5%.\n",
    "This is normally denoted with alpha(maths symbol ) and generally it is 0.05 or 5% , which means your output should be 95% confident to give similar kind of result in each sample."
   ]
  },
  {
   "cell_type": "markdown",
   "id": "6a52b31d",
   "metadata": {},
   "source": [
    "# Type I error:"
   ]
  },
  {
   "cell_type": "markdown",
   "id": "66c7eca0",
   "metadata": {},
   "source": [
    "When we reject the null hypothesis, although that hypothesis was true. Type I error is denoted by alpha. In hypothesis testing, the normal curve that shows the critical region is called the alpha region"
   ]
  },
  {
   "cell_type": "markdown",
   "id": "3af9aa4b",
   "metadata": {},
   "source": [
    "# Type II errors:"
   ]
  },
  {
   "cell_type": "markdown",
   "id": "316431e9",
   "metadata": {},
   "source": [
    " When we accept the null hypothesis but it is false. Type II errors are denoted by beta. In Hypothesis testing, the normal curve that shows the acceptance region is called the beta region."
   ]
  },
  {
   "cell_type": "markdown",
   "id": "fae1cb5b",
   "metadata": {},
   "source": [
    "# One tailed test :"
   ]
  },
  {
   "cell_type": "markdown",
   "id": "cce67f4b",
   "metadata": {},
   "source": [
    "- A test of a statistical hypothesis , where the region of rejection is on only one side of the sampling distribution , is called a one-tailed test."
   ]
  },
  {
   "cell_type": "markdown",
   "id": "3149a4eb",
   "metadata": {},
   "source": [
    "Example :- a college has ≥ 4000 student or data science ≤ 80% org adopted."
   ]
  },
  {
   "cell_type": "markdown",
   "id": "fcbcdb2e",
   "metadata": {},
   "source": [
    "# Two-tailed test :"
   ]
  },
  {
   "cell_type": "markdown",
   "id": "0f74fefe",
   "metadata": {},
   "source": [
    " A two-tailed test is a statistical test in which the critical area of a distribution is two-sided and tests whether a sample is greater than or less than a certain range of values. If the sample being tested falls into either of the critical areas, the alternative hypothesis is accepted instead of the null hypothesis."
   ]
  },
  {
   "cell_type": "markdown",
   "id": "5cfb4304",
   "metadata": {},
   "source": [
    "Example : a college != 4000 student or data science != 80% org adopted\n"
   ]
  },
  {
   "cell_type": "markdown",
   "id": "e355edf1",
   "metadata": {},
   "source": [
    "# P-value :-"
   ]
  },
  {
   "cell_type": "markdown",
   "id": "a32c63d6",
   "metadata": {},
   "source": [
    " The P value, or calculated probability, is the probability of finding the observed, or more extreme, results when the null hypothesis (H 0) of a study question is true — the definition of ‘extreme’ depends on how the hypothesis is being tested.\n",
    " \n",
    " \n",
    "If your P value is less than the chosen significance level then you reject the null hypothesis i.e. accept that your sample gives reasonable evidence to support the alternative hypothesis. It does NOT imply a “meaningful” or “important” difference; that is for you to decide when considering the real-world relevance of your result."
   ]
  },
  {
   "cell_type": "markdown",
   "id": "85ba8e86",
   "metadata": {},
   "source": [
    "Example : you have a coin and you don’t know whether that is fair or tricky so let’s decide null and alternate hypothesis"
   ]
  },
  {
   "cell_type": "markdown",
   "id": "c648f90f",
   "metadata": {},
   "source": [
    "H0 : a coin is a fair coin"
   ]
  },
  {
   "cell_type": "markdown",
   "id": "1b4c4c5f",
   "metadata": {},
   "source": [
    "H1 : a coin is a tricky coin. and alpha = 5% or 0.05"
   ]
  },
  {
   "cell_type": "markdown",
   "id": "4847bedd",
   "metadata": {},
   "source": [
    "Now let’s toss the coin and calculate p- value ( probability value)."
   ]
  },
  {
   "cell_type": "markdown",
   "id": "f748012d",
   "metadata": {},
   "source": [
    "Toss a coin 1st time and result is tail- P-value = 50% (as head and tail have equal probability)"
   ]
  },
  {
   "cell_type": "markdown",
   "id": "e37a3f58",
   "metadata": {},
   "source": [
    "Toss a coin 2nd time and result is tail, now p-value = 50/2 = 25%"
   ]
  },
  {
   "cell_type": "markdown",
   "id": "99ba568d",
   "metadata": {},
   "source": [
    "and similarly we Toss 6 consecutive time and got result as P-value = 1.5% but we set our significance level as 95% means 5% error rate we allow and here we see we are beyond that level i.e. our null- hypothesis does not hold good so we need to reject and propose that this coin is a tricky coin which is actually."
   ]
  },
  {
   "cell_type": "markdown",
   "id": "4ce67350",
   "metadata": {},
   "source": [
    "# Degree of freedom :-"
   ]
  },
  {
   "cell_type": "markdown",
   "id": "3cea76bf",
   "metadata": {},
   "source": [
    " Now imagine you’re not into hats. You’re into data analysis.You have a data set with 10 values. If you’re not estimating anything, each value can take on any number, right? Each value is completely free to vary.But suppose you want to test the population mean with a sample of 10 values, using a 1-sample t test. You now have a constraint — the estimation of the mean. What is that constraint, exactly? By definition of the mean, the following relationship must hold: The sum of all values in the data must equal n x mean, where n is the number of values in the data set."
   ]
  },
  {
   "cell_type": "markdown",
   "id": "6430eb43",
   "metadata": {},
   "source": [
    "So if a data set has 10 values, the sum of the 10 values must equal the mean x 10. If the mean of the 10 values is 3.5 (you could pick any number), this constraint requires that the sum of the 10 values must equal 10 x 3.5 = 35"
   ]
  },
  {
   "cell_type": "markdown",
   "id": "9f61ec8d",
   "metadata": {},
   "source": [
    "With that constraint, the first value in the data set is free to vary. Whatever value it is, it’s still possible for the sum of all 10 numbers to have a value of 35. The second value is also free to vary, because whatever value you choose, it still allows for the possibility that the sum of all the values is 35.\n"
   ]
  },
  {
   "cell_type": "code",
   "execution_count": null,
   "id": "9e5267e0",
   "metadata": {},
   "outputs": [],
   "source": []
  },
  {
   "cell_type": "markdown",
   "id": "ceee6639",
   "metadata": {},
   "source": [
    "# T Test ( Student T test)"
   ]
  },
  {
   "cell_type": "markdown",
   "id": "cf7584d8",
   "metadata": {},
   "source": [
    " A t-test is a type of inferential statistic which is used to determine if there is a significant difference between the means of two groups which may be related in certain features. It is mostly used when the data sets, like the set of data recorded as outcome from flipping a coin a 100 times, would follow a normal distribution and may have unknown variances. T test is used as a hypothesis testing tool, which allows testing of an assumption applicable to a population."
   ]
  },
  {
   "cell_type": "markdown",
   "id": "be9c4173",
   "metadata": {},
   "source": [
    "T-test has 2 types : 1. one sampled t-test 2. two-sampled t-test."
   ]
  },
  {
   "cell_type": "markdown",
   "id": "82c925e7",
   "metadata": {},
   "source": [
    "# One sample t-test : "
   ]
  },
  {
   "cell_type": "markdown",
   "id": "ee9154c6",
   "metadata": {},
   "source": [
    "The One Sample t Test determines whether the sample mean is statistically different from a known or hypothesised population mean. The One Sample t Test is a parametric test.\n",
    "\n",
    "\n",
    "Example :- you have 10 ages and you are checking whether avg age is 30 or not. (check code below for that using python)"
   ]
  },
  {
   "cell_type": "markdown",
   "id": "3f260a06",
   "metadata": {},
   "source": [
    "# Example 1"
   ]
  },
  {
   "cell_type": "code",
   "execution_count": 32,
   "id": "b93f6349",
   "metadata": {},
   "outputs": [
    {
     "name": "stdout",
     "output_type": "stream",
     "text": [
      "Test statistic is -1.243183\n",
      "p-value for one tailed test is 0.117877\n",
      "accept null\n"
     ]
    }
   ],
   "source": [
    "sys_bp=[183, 152, 178, 157, 194, 163, 144, 114, 178, 152, 118, 158, 172, 138]\n",
    "\n",
    "\n",
    "mu=165\n",
    "\n",
    "\n",
    "from scipy import stats\n",
    "\n",
    "t_value,p_value=stats.ttest_1samp(sys_bp,mu)\n",
    "\n",
    "one_tailed_p_value=float(\"{:.6f}\".format(p_value/2)) # Since alternative hypothesis is one tailed, We need to divide the p value by 2.\n",
    "\n",
    "print('Test statistic is %f'%float(\"{:.6f}\".format(t_value)))\n",
    "\n",
    "print('p-value for one tailed test is %f'%one_tailed_p_value)\n",
    "\n",
    "alpha = 0.05\n",
    "\n",
    "if one_tailed_p_value<=alpha:\n",
    "    print(\"reject null\")\n",
    "    \n",
    "\n",
    "else:\n",
    "    print(\"accept null\")\n",
    "\n",
    "    "
   ]
  },
  {
   "cell_type": "markdown",
   "id": "50a9bba7",
   "metadata": {},
   "source": [
    "# Example 2"
   ]
  },
  {
   "cell_type": "code",
   "execution_count": 2,
   "id": "f4a0d76c",
   "metadata": {},
   "outputs": [],
   "source": [
    "import pandas as pd\n",
    "pd.set_option('max_colwidth', 200)\n",
    "pd.set_option('display.float_format', lambda x: '%.3f' % x)\n",
    "from statsmodels.stats.weightstats import *\n",
    "import scipy.stats"
   ]
  },
  {
   "cell_type": "code",
   "execution_count": 3,
   "id": "19255633",
   "metadata": {},
   "outputs": [],
   "source": [
    "df = pd.read_csv(\"C:/Users/HOME/Desktop/dataset/kaggle_dataset/housing/housing.csv\")"
   ]
  },
  {
   "cell_type": "code",
   "execution_count": 6,
   "id": "689eec94",
   "metadata": {},
   "outputs": [
    {
     "name": "stdout",
     "output_type": "stream",
     "text": [
      "3.8706710029070246\n"
     ]
    }
   ],
   "source": [
    "df_mean = np.mean(df['median_income'])\n",
    "print(df_mean)"
   ]
  },
  {
   "cell_type": "code",
   "execution_count": 8,
   "id": "c53fa6d6",
   "metadata": {},
   "outputs": [],
   "source": [
    "from scipy.stats import ttest_1samp\n",
    "tset, pval = ttest_1samp(df['median_income'], 4)"
   ]
  },
  {
   "cell_type": "code",
   "execution_count": 10,
   "id": "ae6795a6",
   "metadata": {},
   "outputs": [
    {
     "name": "stdout",
     "output_type": "stream",
     "text": [
      "1.5362318642262254e-22\n"
     ]
    }
   ],
   "source": [
    "print(pval)"
   ]
  },
  {
   "cell_type": "code",
   "execution_count": 13,
   "id": "1b0e9ea7",
   "metadata": {},
   "outputs": [
    {
     "name": "stdout",
     "output_type": "stream",
     "text": [
      " we are rejecting null hypothesis\n"
     ]
    }
   ],
   "source": [
    "if pval < 0.05:    # alpha value is 0.05 or 5%\n",
    "    print(\" we are rejecting null hypothesis\")\n",
    "else:\n",
    "    print(\"we are accepting null hypothesis\")"
   ]
  },
  {
   "cell_type": "markdown",
   "id": "05b1b678",
   "metadata": {},
   "source": [
    "# Two sampled T-test :"
   ]
  },
  {
   "cell_type": "markdown",
   "id": "67e1b4c9",
   "metadata": {},
   "source": [
    "-The Independent Samples t Test or 2-sample t-test compares the means of two independent groups in order to determine whether there is statistical evidence that the associated population means are significantly different. The Independent Samples t Test is a parametric test. This test is also known as: Independent t Test."
   ]
  },
  {
   "cell_type": "markdown",
   "id": "363a3804",
   "metadata": {},
   "source": [
    "# Example 1"
   ]
  },
  {
   "cell_type": "markdown",
   "id": "7b39114e",
   "metadata": {},
   "source": [
    "# Hypothesis\n",
    "H0: The effect of ammonium chloride and urea on grain yield of paddy are equal i.e., μ1 = μ2\n",
    "\n",
    "H1: The effect of ammonium chloride and urea on grain yield of paddy is not equal i.e., μ1 ≠ μ2"
   ]
  },
  {
   "cell_type": "markdown",
   "id": "49ce930d",
   "metadata": {},
   "source": [
    "# Test statistic\n",
    "\n",
    "\n",
    "Where,\n",
    "\n",
    "x̄1 and x̄2 are sample means for x1 and x2 respectively.\n",
    "\n",
    "n1 and n2 are the numbers of observations in x1 and x2 respectively.\n",
    "\n",
    "s1 and s2 are the sample standard deviation for x1 and x2 respectively"
   ]
  },
  {
   "cell_type": "code",
   "execution_count": 33,
   "id": "94ee689c",
   "metadata": {},
   "outputs": [],
   "source": [
    "Ammonium_chloride=[13.4,10.9,11.2,11.8,14,15.3,14.2,12.6,17,16.2,16.5,15.7]\n",
    "Urea=[12,11.7,10.7,11.2,14.8,14.4,13.9,13.7,16.9,16,15.6,16]"
   ]
  },
  {
   "cell_type": "code",
   "execution_count": 34,
   "id": "543816c3",
   "metadata": {},
   "outputs": [
    {
     "name": "stdout",
     "output_type": "stream",
     "text": [
      "Test statistic is 0.184650\n",
      "p-value for two tailed test is 0.855195\n"
     ]
    }
   ],
   "source": [
    "from scipy import stats\n",
    "\n",
    "t_value,p_value=stats.ttest_ind(Ammonium_chloride,Urea)\n",
    "\n",
    "print('Test statistic is %f'%float(\"{:.6f}\".format(t_value)))\n",
    "\n",
    "print('p-value for two tailed test is %f'%p_value)\n",
    "\n",
    "alpha = 0.05"
   ]
  },
  {
   "cell_type": "code",
   "execution_count": 39,
   "id": "3d46f5ac",
   "metadata": {},
   "outputs": [
    {
     "name": "stdout",
     "output_type": "stream",
     "text": [
      "Conclusion n Since p-value(=0.855195) > alpha(=0.05)  do not reject null \n",
      " conclude that ffect of ammonium chloride and urea on grain yield of paddy are equal\n"
     ]
    }
   ],
   "source": [
    "if p_value<=alpha:\n",
    "\n",
    "    print('Conclusion','n','Since p-value(=%f)'%p_value,'<','alpha(=%.2f)'%alpha,'''We reject the null hypothesis H0. So we conclude that the \n",
    "\n",
    "effect of ammonium chloride and urea on grain yield of paddy are not equal i.e., μ1 = μ2 at %.2f level of significance.'''%alpha)\n",
    "\n",
    "else:\n",
    "\n",
    "    print('Conclusion','n','Since p-value(=%f)'%p_value,'>','alpha(=%.2f)'%alpha,\" do not reject null\",\"\\n conclude that ffect of ammonium chloride and urea on grain yield of paddy are equal\")"
   ]
  },
  {
   "cell_type": "code",
   "execution_count": null,
   "id": "15870664",
   "metadata": {},
   "outputs": [],
   "source": []
  },
  {
   "cell_type": "markdown",
   "id": "03705cb0",
   "metadata": {},
   "source": [
    "# Example 2"
   ]
  },
  {
   "cell_type": "code",
   "execution_count": 18,
   "id": "5c4e6303",
   "metadata": {},
   "outputs": [],
   "source": [
    "from math import sqrt\n",
    "from numpy.random import seed\n",
    "from numpy.random import randn\n",
    "from numpy import mean\n",
    "from scipy.stats import sem\n",
    "from scipy.stats import t"
   ]
  },
  {
   "cell_type": "code",
   "execution_count": 22,
   "id": "c68a1a8d",
   "metadata": {},
   "outputs": [
    {
     "name": "stdout",
     "output_type": "stream",
     "text": [
      "t=-2.262, df=198, cv=1.653, p=0.025\n",
      "Reject the null hypothesis that the means are equal.\n",
      "Reject the null hypothesis that the means are equal.\n"
     ]
    }
   ],
   "source": [
    "# function for calculating the t-test for two independent samples\n",
    "def independent_ttest(data1, data2, alpha):\n",
    "    # calculate means\n",
    "    mean1, mean2 = mean(data1), mean(data2)\n",
    "    # calculate standard errors\n",
    "    se1, se2 = sem(data1), sem(data2)\n",
    "    # standard error on the difference between the samples\n",
    "    sed = sqrt(se1**2.0 + se2**2.0)\n",
    "    # calculate the t statistic\n",
    "    t_stat = (mean1 - mean2) / sed\n",
    "    # degrees of freedom\n",
    "    df = len(data1) + len(data2) - 2\n",
    "    # calculate the critical value\n",
    "    cv = t.ppf(1.0 - alpha, df)\n",
    "    # calculate the p-value\n",
    "    p = (1.0 - t.cdf(abs(t_stat), df)) * 2.0\n",
    "    # return everything\n",
    "    return t_stat, df, cv, p\n",
    "# seed the random number generator\n",
    "seed(1)\n",
    "# generate two independent samples\n",
    "data1 = 5 * randn(100) + 50\n",
    "data2 = 5 * randn(100) + 51\n",
    "# calculate the t test\n",
    "alpha = 0.05\n",
    "t_stat, df, cv, p = independent_ttest(data1, data2, alpha)\n",
    "print('t=%.3f, df=%d, cv=%.3f, p=%.3f' % (t_stat, df, cv, p))\n",
    "# interpret via critical value\n",
    "if abs(t_stat) <= cv:\n",
    "    print('Accept null hypothesis that the means are equal.')\n",
    "else:\n",
    "    print('Reject the null hypothesis that the means are equal.')\n",
    "# interpret via p-value\n",
    "if p > alpha:\n",
    "    print('Accept null hypothesis that the means are equal.')\n",
    "else:\n",
    "    print('Reject the null hypothesis that the means are equal.')"
   ]
  },
  {
   "cell_type": "markdown",
   "id": "4f070136",
   "metadata": {},
   "source": [
    "Running the example first calculates the test"
   ]
  },
  {
   "cell_type": "markdown",
   "id": "62ee6104",
   "metadata": {},
   "source": [
    "The results of the test are printed, including the t-statistic, the degrees of freedom, the critical value, and the p-value.\n",
    "\n"
   ]
  },
  {
   "cell_type": "markdown",
   "id": "a26b7691",
   "metadata": {},
   "source": [
    "We can see that both the t-statistic and p-value match the outputs of the SciPy function. The test appears to be implemented correctly.\n"
   ]
  },
  {
   "cell_type": "markdown",
   "id": "29e3fc6e",
   "metadata": {},
   "source": [
    "\n",
    "The t-statistic and the p-value are then used to interpret the results of the test. We find that as we expect, there is sufficient evidence to reject the null hypothesis, finding that the sample means are likely different."
   ]
  },
  {
   "cell_type": "markdown",
   "id": "0feb1dd3",
   "metadata": {},
   "source": [
    "# Student’s t-Test for Dependent Samples Or Paired sampled t-test"
   ]
  },
  {
   "cell_type": "markdown",
   "id": "d81def1d",
   "metadata": {},
   "source": [
    "We can now look at the case of calculating the Student’s t-test for dependent samples.\n",
    "\n",
    "\n",
    "\n",
    "This is the case where we collect some observations on a sample from the population, then apply some treatment, and then collect observations from the same sample.\n",
    "\n",
    "\n",
    "\n",
    "The result is two samples of the same size where the observations in each sample are related or paired.\n",
    "\n",
    "\n",
    "\n",
    "The t-test for dependent samples is referred to as the paired Student’s t-test."
   ]
  },
  {
   "cell_type": "markdown",
   "id": "6c5f2aa4",
   "metadata": {},
   "source": [
    "# Calculation Student-t test\n",
    "The calculation of the paired Student’s t-test is similar to the case with independent samples."
   ]
  },
  {
   "cell_type": "markdown",
   "id": "496a1754",
   "metadata": {},
   "source": [
    "# t = (mean(X1) - mean(X2)) / sed"
   ]
  },
  {
   "cell_type": "markdown",
   "id": "856f2ee0",
   "metadata": {},
   "source": [
    "Where X1 and X2 are the first and second data samples and sed is the standard error of the difference between the means"
   ]
  },
  {
   "cell_type": "markdown",
   "id": "49bb0dab",
   "metadata": {},
   "source": [
    "# sed = sd / sqrt(n)"
   ]
  },
  {
   "cell_type": "markdown",
   "id": "4356e432",
   "metadata": {},
   "source": [
    "Where sd is the standard deviation of the difference between the dependent sample means and n is the total number of paired observations (e.g. the size of each sample).\n",
    "\n",
    "\n",
    "The calculation of sd first requires the calculation of the sum of the squared differences between the samples:"
   ]
  },
  {
   "cell_type": "markdown",
   "id": "485af4a6",
   "metadata": {},
   "source": [
    "# d1 = sum (X1[i] - X2[i])^2 for i in n"
   ]
  },
  {
   "cell_type": "markdown",
   "id": "43e85f81",
   "metadata": {},
   "source": [
    "It also requires the sum of the (non squared) differences between the samples:"
   ]
  },
  {
   "cell_type": "markdown",
   "id": "14e061e2",
   "metadata": {},
   "source": [
    "# d2 = sum (X1[i] - X2[i]) for i in n"
   ]
  },
  {
   "cell_type": "markdown",
   "id": "5b68606d",
   "metadata": {},
   "source": [
    "# finally calculated as sd = sqrt((d1 - (d2**2 / n)) / (n - 1))"
   ]
  },
  {
   "cell_type": "markdown",
   "id": "9fdbe28d",
   "metadata": {},
   "source": [
    "# Complete function "
   ]
  },
  {
   "cell_type": "code",
   "execution_count": 23,
   "id": "49673542",
   "metadata": {},
   "outputs": [],
   "source": [
    "def dependent_ttest(data1, data2, alpha):\n",
    "    # calculate means\n",
    "    mean1, mean2 = mean(data1), mean(data2)\n",
    "    # number of paired samples\n",
    "    n = len(data1)\n",
    "    # sum squared difference between observations\n",
    "    d1 = sum([(data1[i]-data2[i])**2 for i in range(n)])\n",
    "    # sum difference between observations\n",
    "    d2 = sum([data1[i]-data2[i] for i in range(n)])\n",
    "    # standard deviation of the difference between means\n",
    "    sd = sqrt((d1 - (d2**2 / n)) / (n - 1))\n",
    "    # standard error of the difference between the means\n",
    "    sed = sd / sqrt(n)\n",
    "    # calculate the t statistic\n",
    "    t_stat = (mean1 - mean2) / sed\n",
    "    # degrees of freedom\n",
    "    df = n - 1\n",
    "    # calculate the critical value\n",
    "    cv = t.ppf(1.0 - alpha, df)\n",
    "    # calculate the p-value\n",
    "    p = (1.0 - t.cdf(abs(t_stat), df)) * 2.0\n",
    "    # return everything\n",
    "    return t_stat, df, cv, p"
   ]
  },
  {
   "cell_type": "code",
   "execution_count": 25,
   "id": "5bcd33ef",
   "metadata": {},
   "outputs": [
    {
     "name": "stdout",
     "output_type": "stream",
     "text": [
      "t=-2.372, df=99, cv=1.660, p=0.020\n",
      "Reject the null hypothesis that the means are equal.\n",
      "Reject the null hypothesis that the means are equal.\n"
     ]
    }
   ],
   "source": [
    "from math import sqrt\n",
    "from numpy.random import seed\n",
    "from numpy.random import randn\n",
    "from numpy import mean\n",
    "from scipy.stats import t\n",
    " \n",
    "# function for calculating the t-test for two dependent samples\n",
    "def dependent_ttest(data1, data2, alpha):\n",
    "    # calculate means\n",
    "    mean1, mean2 = mean(data1), mean(data2)\n",
    "    # number of paired samples\n",
    "    n = len(data1)\n",
    "    # sum squared difference between observations\n",
    "    d1 = sum([(data1[i]-data2[i])**2 for i in range(n)])\n",
    "    # sum difference between observations\n",
    "    d2 = sum([data1[i]-data2[i] for i in range(n)])\n",
    "    # standard deviation of the difference between means\n",
    "    sd = sqrt((d1 - (d2**2 / n)) / (n - 1))\n",
    "    # standard error of the difference between the means\n",
    "    sed = sd / sqrt(n)\n",
    "    # calculate the t statistic\n",
    "    t_stat = (mean1 - mean2) / sed\n",
    "    # degrees of freedom\n",
    "    df = n - 1\n",
    "    # calculate the critical value\n",
    "    cv = t.ppf(1.0 - alpha, df)\n",
    "    # calculate the p-value\n",
    "    p = (1.0 - t.cdf(abs(t_stat), df)) * 2.0\n",
    "    # return everything\n",
    "    return t_stat, df, cv, p\n",
    " \n",
    "# seed the random number generator\n",
    "seed(1)\n",
    "# generate two independent samples (pretend they are dependent)\n",
    "data1 = 5 * randn(100) + 50\n",
    "data2 = 5 * randn(100) + 51\n",
    "# calculate the t test\n",
    "alpha = 0.05\n",
    "t_stat, df, cv, p = dependent_ttest(data1, data2, alpha)\n",
    "print('t=%.3f, df=%d, cv=%.3f, p=%.3f' % (t_stat, df, cv, p))\n",
    "# interpret via critical value\n",
    "if abs(t_stat) <= cv:\n",
    "    print('Accept null hypothesis that the means are equal.')\n",
    "else:\n",
    "    print('Reject the null hypothesis that the means are equal.')\n",
    "# interpret via p-value\n",
    "if p > alpha:\n",
    "    print('Accept null hypothesis that the means are equal.')\n",
    "else:\n",
    "    print('Reject the null hypothesis that the means are equal.')\n"
   ]
  },
  {
   "cell_type": "markdown",
   "id": "89573465",
   "metadata": {},
   "source": [
    "# Example 2 Paired t-test"
   ]
  },
  {
   "cell_type": "markdown",
   "id": "a43350a3",
   "metadata": {},
   "source": [
    "Data:\n",
    "Eleven schoolboys were given a test in Statistics. They were given a Month’s tuition and a second test were held at the end of it. Do the marks give evidence that the students have benefited from the exam coaching?\n",
    "\n",
    "Marks in 1st test: 23 20 19 21 18 20 18 17 23 16 19\n",
    "\n",
    "Marks in 2nd test: 24 19 22 18 20 22 20 20 23 20 18"
   ]
  },
  {
   "cell_type": "markdown",
   "id": "dd79163d",
   "metadata": {},
   "source": [
    "# Hypothesis for example 2 Paired t-test\n",
    "H0: The students have not benefited from the tuition class. i.e., d = 0\n",
    "\n",
    "H1: The students have benefited from the tuition class. i.e., d < 0\n",
    "\n",
    "Where, d = x-y; d is the difference between marks in the first test (say x) and marks in the second test (say y).\n",
    "\n",
    "Test statistic\n",
    "\n",
    "\n",
    "\n",
    "Where, n is the number of samples ‘s’ is sample standard deviation"
   ]
  },
  {
   "cell_type": "code",
   "execution_count": 40,
   "id": "75c73188",
   "metadata": {},
   "outputs": [],
   "source": [
    "alpha = 0.05\n",
    "first_test =[23, 20, 19, 21, 18, 20, 18, 17, 23, 16, 19]\n",
    "second_test=[24, 19, 22, 18, 20, 22, 20, 20, 23, 20, 18]"
   ]
  },
  {
   "cell_type": "code",
   "execution_count": 41,
   "id": "10e635bf",
   "metadata": {},
   "outputs": [
    {
     "name": "stdout",
     "output_type": "stream",
     "text": [
      "Test statistic is -1.707331\n",
      "p-value for one_tailed_test is 0.059282\n"
     ]
    }
   ],
   "source": [
    "from scipy import stats\n",
    "\n",
    "t_value,p_value=stats.ttest_rel(first_test,second_test)\n",
    "\n",
    "one_tailed_p_value=float(\"{:.6f}\".format(p_value/2)) \n",
    "\n",
    "print('Test statistic is %f'%float(\"{:.6f}\".format(t_value)))\n",
    "\n",
    "print('p-value for one_tailed_test is %f'%one_tailed_p_value)\n",
    "\n",
    "alpha = 0.05\n"
   ]
  },
  {
   "cell_type": "code",
   "execution_count": 45,
   "id": "92333ade",
   "metadata": {},
   "outputs": [
    {
     "name": "stdout",
     "output_type": "stream",
     "text": [
      "Conclusion n Since p-value(=0.059282) > alpha(=0.05) We do not reject the null hypothesis H0. \n",
      "\n",
      "So we conclude that the students have not benefited by the tuition class. i.e., d = 0 at 0.05 level of significance.\n"
     ]
    }
   ],
   "source": [
    "if one_tailed_p_value<=alpha:\n",
    "    print('Conclusion','n','Since p-value(=%f)'%one_tailed_p_value,'<','alpha(=%.2f)'%alpha,'''We reject the null hypothesis H0. \n",
    "\n",
    "So we conclude that the students have benefited by the tuition class. i.e., d = 0 at %.2f level of significance.'''%alpha)\n",
    "    \n",
    "    \n",
    "else:\n",
    "\n",
    "    print('Conclusion','n','Since p-value(=%f)'%one_tailed_p_value,'>','alpha(=%.2f)'%alpha,'''We do not reject the null hypothesis H0. \n",
    "\n",
    "So we conclude that the students have not benefited by the tuition class. i.e., d = 0 at %.2f level of significance.'''%alpha)\n",
    "    "
   ]
  },
  {
   "cell_type": "code",
   "execution_count": null,
   "id": "6c46a1ea",
   "metadata": {},
   "outputs": [],
   "source": []
  },
  {
   "cell_type": "markdown",
   "id": "5c5ebacb",
   "metadata": {},
   "source": [
    "#                     # Z test"
   ]
  },
  {
   "cell_type": "markdown",
   "id": "92e92646",
   "metadata": {},
   "source": [
    "# When you can run a Z Test."
   ]
  },
  {
   "cell_type": "markdown",
   "id": "009c9789",
   "metadata": {},
   "source": [
    "You would use a Z test if:\n",
    "    Your sample size is greater than 30. Otherwise, use a t test.\n",
    "\n",
    "    \n",
    "    Data points should be independent from each other. In other words, one data point isn’t related or doesn’t affect another data point.\n",
    "\n",
    "    \n",
    "    Your data should be normally distributed. However, for large sample sizes (over 30) this doesn’t always matter.\n",
    "\n",
    "    \n",
    "    Your data should be randomly selected from a population, where each item has an equal chance of being selected.\n",
    "\n",
    "    \n",
    "    Sample sizes should be equal if at all possible.\n",
    "    \n",
    "    "
   ]
  },
  {
   "cell_type": "raw",
   "id": "a4bb51d8",
   "metadata": {},
   "source": [
    "import pandas as pd\n",
    "from scipy import stats\n",
    "from statsmodels.stats import weightstats as stests\n",
    "ztest ,pval = stests.ztest(df['bp_before'], x2=None, value=156)\n",
    "print(float(pval))\n",
    "if pval<0.05:\n",
    "    print(\"reject null hypothesis\")\n",
    "else:\n",
    "    print(\"accept null hypothesis\")"
   ]
  },
  {
   "cell_type": "code",
   "execution_count": null,
   "id": "1ddfcdc8",
   "metadata": {},
   "outputs": [],
   "source": []
  },
  {
   "cell_type": "code",
   "execution_count": null,
   "id": "8b10ee83",
   "metadata": {},
   "outputs": [],
   "source": []
  },
  {
   "cell_type": "markdown",
   "id": "5e02f447",
   "metadata": {},
   "source": [
    "# TWO SAMPLE Z test"
   ]
  },
  {
   "cell_type": "markdown",
   "id": "46f6f5af",
   "metadata": {},
   "source": [
    " Two-sample Z test- In two sample z-test , similar to t-test here we are checking two independent data groups and deciding whether sample mean of two group is equal or not."
   ]
  },
  {
   "cell_type": "markdown",
   "id": "a89b9735",
   "metadata": {},
   "source": [
    "H0 : mean of two group is 0\n",
    "    \n",
    "    \n",
    "#H1 : mean of two group is not 0"
   ]
  },
  {
   "cell_type": "markdown",
   "id": "ec78e9b5",
   "metadata": {},
   "source": [
    "# EXAMPLE 1\n",
    "\n",
    "To see if youngmen ages 8-17 years spend a different amount than national average of 24.44 USD per shopping trip to a local mall with a standard deviation of 3.70 usd , the manager surveyed 40 random young men\n",
    "\n",
    "found that average spent per trip was 23.37usd with alpha = 0.05 can it be concluded that 8-17 yrs old spend a different amount at local mall than national average?"
   ]
  },
  {
   "cell_type": "markdown",
   "id": "acb9a022",
   "metadata": {},
   "source": [
    "# Solution:\n",
    "    H0: mu = 24.44\n",
    "    Ha: mu!= 24.44 => two tailed test\n",
    "        n=40>30 sigma amd population mean is provided therefore Z-test"
   ]
  },
  {
   "cell_type": "code",
   "execution_count": 51,
   "id": "3134e69a",
   "metadata": {},
   "outputs": [],
   "source": [
    "import numpy as np\n",
    "import scipy.stats as stats"
   ]
  },
  {
   "cell_type": "code",
   "execution_count": 52,
   "id": "28d80bf7",
   "metadata": {},
   "outputs": [],
   "source": [
    "mu = 24.44\n",
    "\n",
    "sigma = 3.70\n",
    "\n",
    "n = 40\n",
    "alpha = 0.05\n",
    "x_bar = 23.37"
   ]
  },
  {
   "cell_type": "code",
   "execution_count": 53,
   "id": "71e29524",
   "metadata": {},
   "outputs": [
    {
     "name": "stdout",
     "output_type": "stream",
     "text": [
      "1.9599639845400545\n"
     ]
    }
   ],
   "source": [
    "critical_value = stats.norm.isf(alpha/2)# dividing by 2 because it is a two tailed z test\n",
    "print(critical_value)"
   ]
  },
  {
   "cell_type": "code",
   "execution_count": 54,
   "id": "a1385dff",
   "metadata": {},
   "outputs": [
    {
     "name": "stdout",
     "output_type": "stream",
     "text": [
      "-1.8289930250703605\n"
     ]
    }
   ],
   "source": [
    "z_test_statistic = (x_bar - mu) / (sigma/np.sqrt(n))\n",
    "print(z_test_statistic)"
   ]
  },
  {
   "cell_type": "code",
   "execution_count": 55,
   "id": "7ceb568b",
   "metadata": {},
   "outputs": [
    {
     "name": "stdout",
     "output_type": "stream",
     "text": [
      "failed to reject H0\n"
     ]
    }
   ],
   "source": [
    "if((z_test_statistic > critical_value) | (z_test_statistic <(0- critical_value))):\n",
    "    print(\"Reject H0\")\n",
    "else:\n",
    "    print(\"failed to reject H0\")"
   ]
  },
  {
   "cell_type": "markdown",
   "id": "8de1b7b4",
   "metadata": {},
   "source": [
    "# Examlple 2"
   ]
  },
  {
   "cell_type": "code",
   "execution_count": 58,
   "id": "4676fef6",
   "metadata": {},
   "outputs": [
    {
     "name": "stdout",
     "output_type": "stream",
     "text": [
      "mean=110.14 stdv=1.91\n",
      "Reject Null Hypothesis\n"
     ]
    }
   ],
   "source": [
    "\n",
    "import math\n",
    "import numpy as np\n",
    "from numpy.random import randn\n",
    "from statsmodels.stats.weightstats import ztest\n",
    "\n",
    "\n",
    "mean_iq = 110\n",
    "sd_iq = 15/math.sqrt(50)\n",
    "alpha =0.05\n",
    "null_mean =100\n",
    "data = sd_iq*randn(50)+mean_iq\n",
    "\n",
    "print('mean=%.2f stdv=%.2f' % (np.mean(data), np.std(data)))\n",
    "\n",
    "\n",
    "\n",
    "ztest_Score, p_value= ztest(data,value = null_mean, alternative='larger')\n",
    "\n",
    "\n",
    "if(p_value < alpha):\n",
    "    print(\"Reject Null Hypothesis\")\n",
    "else:\n",
    "    print(\"Fail to Reject NUll Hypothesis\")\n"
   ]
  },
  {
   "cell_type": "code",
   "execution_count": null,
   "id": "56c7cbfd",
   "metadata": {},
   "outputs": [],
   "source": []
  },
  {
   "cell_type": "markdown",
   "id": "05fbfd5e",
   "metadata": {},
   "source": [
    "# ANOVA TEST"
   ]
  },
  {
   "cell_type": "code",
   "execution_count": null,
   "id": "7803406b",
   "metadata": {},
   "outputs": [],
   "source": []
  },
  {
   "cell_type": "code",
   "execution_count": null,
   "id": "05cdc3a8",
   "metadata": {},
   "outputs": [],
   "source": []
  },
  {
   "cell_type": "markdown",
   "id": "3e277cbb",
   "metadata": {},
   "source": [
    " The t-test works well when dealing with two groups, but sometimes we want to compare more than two groups at the same time. For example, if we wanted to test whether voter age differs based on some categorical variable like race, we have to compare the means of each level or group the variable. We could carry out a separate t-test for each pair of groups, but when you conduct many tests you increase the chances of false positives. The analysis of variance or ANOVA is a statistical inference test that lets you compare multiple groups at the same time."
   ]
  },
  {
   "cell_type": "markdown",
   "id": "45a1c34f",
   "metadata": {},
   "source": [
    "# F = Between group variability / Within group variability"
   ]
  },
  {
   "cell_type": "markdown",
   "id": "49971e74",
   "metadata": {},
   "source": [
    "Unlike the z and t-distributions, the F-distribution does not have any negative values because between and within-group variability are always positive due to squaring each deviation."
   ]
  },
  {
   "cell_type": "markdown",
   "id": "7025815b",
   "metadata": {},
   "source": [
    "# One Way F-test(Anova)"
   ]
  },
  {
   "cell_type": "markdown",
   "id": "5d713ce0",
   "metadata": {},
   "source": [
    "It tell whether two or more groups are similar or not based on their mean similarity and f-score."
   ]
  },
  {
   "cell_type": "code",
   "execution_count": 60,
   "id": "b12b3d32",
   "metadata": {
    "scrolled": false
   },
   "outputs": [
    {
     "name": "stdout",
     "output_type": "stream",
     "text": [
      "Collecting researchpy\n",
      "  Downloading researchpy-0.3.2-py3-none-any.whl (15 kB)\n",
      "Requirement already satisfied: numpy in e:\\anaxonda\\lib\\site-packages (from researchpy) (1.20.3)\n",
      "Requirement already satisfied: pandas in e:\\anaxonda\\lib\\site-packages (from researchpy) (1.3.2)\n",
      "Requirement already satisfied: scipy in e:\\anaxonda\\lib\\site-packages (from researchpy) (1.6.2)\n",
      "Requirement already satisfied: patsy in e:\\anaxonda\\lib\\site-packages (from researchpy) (0.5.1)\n",
      "Requirement already satisfied: statsmodels in e:\\anaxonda\\lib\\site-packages (from researchpy) (0.12.2)\n",
      "Requirement already satisfied: pytz>=2017.3 in e:\\anaxonda\\lib\\site-packages (from pandas->researchpy) (2021.1)\n",
      "Requirement already satisfied: python-dateutil>=2.7.3 in e:\\anaxonda\\lib\\site-packages (from pandas->researchpy) (2.8.2)\n",
      "Requirement already satisfied: six>=1.5 in e:\\anaxonda\\lib\\site-packages (from python-dateutil>=2.7.3->pandas->researchpy) (1.16.0)\n",
      "Installing collected packages: researchpy\n",
      "Successfully installed researchpy-0.3.2\n"
     ]
    }
   ],
   "source": [
    "import pandas as pd\n",
    "!pip3 install  researchpy\n",
    "import researchpy as rp"
   ]
  },
  {
   "cell_type": "code",
   "execution_count": 61,
   "id": "97c9598f",
   "metadata": {},
   "outputs": [],
   "source": [
    "df = pd.read_csv(\"https://raw.githubusercontent.com/researchpy/Data-sets/master/difficile.csv\")"
   ]
  },
  {
   "cell_type": "code",
   "execution_count": 62,
   "id": "e0b322c9",
   "metadata": {},
   "outputs": [],
   "source": [
    "df.drop('person', axis= 1, inplace= True)"
   ]
  },
  {
   "cell_type": "code",
   "execution_count": 63,
   "id": "1b00208c",
   "metadata": {},
   "outputs": [
    {
     "name": "stdout",
     "output_type": "stream",
     "text": [
      "<class 'pandas.core.frame.DataFrame'>\n",
      "RangeIndex: 15 entries, 0 to 14\n",
      "Data columns (total 2 columns):\n",
      " #   Column  Non-Null Count  Dtype \n",
      "---  ------  --------------  ----- \n",
      " 0   dose    15 non-null     object\n",
      " 1   libido  15 non-null     int64 \n",
      "dtypes: int64(1), object(1)\n",
      "memory usage: 368.0+ bytes\n"
     ]
    }
   ],
   "source": [
    "# Recoding value from numeric to string\n",
    "df['dose'].replace({1: 'placebo', 2: 'low', 3: 'high'}, inplace= True)\n",
    "\n",
    "df.info()"
   ]
  },
  {
   "cell_type": "code",
   "execution_count": 64,
   "id": "81688ca1",
   "metadata": {},
   "outputs": [
    {
     "name": "stdout",
     "output_type": "stream",
     "text": [
      "\n",
      "\n"
     ]
    },
    {
     "data": {
      "text/html": [
       "<div>\n",
       "<style scoped>\n",
       "    .dataframe tbody tr th:only-of-type {\n",
       "        vertical-align: middle;\n",
       "    }\n",
       "\n",
       "    .dataframe tbody tr th {\n",
       "        vertical-align: top;\n",
       "    }\n",
       "\n",
       "    .dataframe thead th {\n",
       "        text-align: right;\n",
       "    }\n",
       "</style>\n",
       "<table border=\"1\" class=\"dataframe\">\n",
       "  <thead>\n",
       "    <tr style=\"text-align: right;\">\n",
       "      <th></th>\n",
       "      <th>Variable</th>\n",
       "      <th>N</th>\n",
       "      <th>Mean</th>\n",
       "      <th>SD</th>\n",
       "      <th>SE</th>\n",
       "      <th>95% Conf.</th>\n",
       "      <th>Interval</th>\n",
       "    </tr>\n",
       "  </thead>\n",
       "  <tbody>\n",
       "    <tr>\n",
       "      <th>0</th>\n",
       "      <td>libido</td>\n",
       "      <td>15.000</td>\n",
       "      <td>3.467</td>\n",
       "      <td>1.767</td>\n",
       "      <td>0.456</td>\n",
       "      <td>2.488</td>\n",
       "      <td>4.445</td>\n",
       "    </tr>\n",
       "  </tbody>\n",
       "</table>\n",
       "</div>"
      ],
      "text/plain": [
       "  Variable      N  Mean    SD    SE  95% Conf.  Interval\n",
       "0   libido 15.000 3.467 1.767 0.456      2.488     4.445"
      ]
     },
     "execution_count": 64,
     "metadata": {},
     "output_type": "execute_result"
    }
   ],
   "source": [
    "rp.summary_cont(df['libido'])"
   ]
  },
  {
   "cell_type": "code",
   "execution_count": 65,
   "id": "c8dcda72",
   "metadata": {},
   "outputs": [
    {
     "name": "stdout",
     "output_type": "stream",
     "text": [
      "\n",
      "\n"
     ]
    },
    {
     "data": {
      "text/html": [
       "<div>\n",
       "<style scoped>\n",
       "    .dataframe tbody tr th:only-of-type {\n",
       "        vertical-align: middle;\n",
       "    }\n",
       "\n",
       "    .dataframe tbody tr th {\n",
       "        vertical-align: top;\n",
       "    }\n",
       "\n",
       "    .dataframe thead th {\n",
       "        text-align: right;\n",
       "    }\n",
       "</style>\n",
       "<table border=\"1\" class=\"dataframe\">\n",
       "  <thead>\n",
       "    <tr style=\"text-align: right;\">\n",
       "      <th></th>\n",
       "      <th>N</th>\n",
       "      <th>Mean</th>\n",
       "      <th>SD</th>\n",
       "      <th>SE</th>\n",
       "      <th>95% Conf.</th>\n",
       "      <th>Interval</th>\n",
       "    </tr>\n",
       "    <tr>\n",
       "      <th>dose</th>\n",
       "      <th></th>\n",
       "      <th></th>\n",
       "      <th></th>\n",
       "      <th></th>\n",
       "      <th></th>\n",
       "      <th></th>\n",
       "    </tr>\n",
       "  </thead>\n",
       "  <tbody>\n",
       "    <tr>\n",
       "      <th>high</th>\n",
       "      <td>5</td>\n",
       "      <td>5.000</td>\n",
       "      <td>1.581</td>\n",
       "      <td>0.707</td>\n",
       "      <td>3.037</td>\n",
       "      <td>6.963</td>\n",
       "    </tr>\n",
       "    <tr>\n",
       "      <th>low</th>\n",
       "      <td>5</td>\n",
       "      <td>3.200</td>\n",
       "      <td>1.304</td>\n",
       "      <td>0.583</td>\n",
       "      <td>1.581</td>\n",
       "      <td>4.819</td>\n",
       "    </tr>\n",
       "    <tr>\n",
       "      <th>placebo</th>\n",
       "      <td>5</td>\n",
       "      <td>2.200</td>\n",
       "      <td>1.304</td>\n",
       "      <td>0.583</td>\n",
       "      <td>0.581</td>\n",
       "      <td>3.819</td>\n",
       "    </tr>\n",
       "  </tbody>\n",
       "</table>\n",
       "</div>"
      ],
      "text/plain": [
       "         N  Mean    SD    SE  95% Conf.  Interval\n",
       "dose                                             \n",
       "high     5 5.000 1.581 0.707      3.037     6.963\n",
       "low      5 3.200 1.304 0.583      1.581     4.819\n",
       "placebo  5 2.200 1.304 0.583      0.581     3.819"
      ]
     },
     "execution_count": 65,
     "metadata": {},
     "output_type": "execute_result"
    }
   ],
   "source": [
    "rp.summary_cont(df['libido'].groupby(df['dose']))"
   ]
  },
  {
   "cell_type": "markdown",
   "id": "aa2707ee",
   "metadata": {},
   "source": [
    "# ONE-WAY ANOVA USING SCIPY.STATS\n",
    "Conducting an one-way ANOVA using scipy.stats is quick and only returns the restuling F-statistic and p-value of the test."
   ]
  },
  {
   "cell_type": "code",
   "execution_count": 66,
   "id": "5e9d9000",
   "metadata": {},
   "outputs": [
    {
     "data": {
      "text/plain": [
       "F_onewayResult(statistic=5.11864406779661, pvalue=0.024694289538222603)"
      ]
     },
     "execution_count": 66,
     "metadata": {},
     "output_type": "execute_result"
    }
   ],
   "source": [
    "import scipy.stats as stats\n",
    "\n",
    "stats.f_oneway(df['libido'][df['dose'] == 'high'],\n",
    "               df['libido'][df['dose'] == 'low'],\n",
    "               df['libido'][df['dose'] == 'placebo'])"
   ]
  },
  {
   "cell_type": "markdown",
   "id": "a993f07c",
   "metadata": {},
   "source": [
    "# Interpretation\n",
    "A new medication was developed to increase the libido of those who take the medication. The purpose of this study was to test for a difference between the dosage levels. The overall average libido was 3.5 95% CI(2.5, 4.4) with group averages of 2.2 95% CI(0.9, 3.5) for the placebo group; 3.2 95% CI(1.9, 4.5) for the low dose group; and 5.0 95% CI(3.5, 6.5) for the high dose group. There is a statistically significant difference between the groups and their effects the libido, F= 5.12, p-value= 0.0247."
   ]
  },
  {
   "cell_type": "markdown",
   "id": "cc7c6153",
   "metadata": {},
   "source": [
    "# ONE-WAY ANOVA USING STATSMODELS"
   ]
  },
  {
   "cell_type": "markdown",
   "id": "a86f4245",
   "metadata": {},
   "source": [
    "IT uses oly two steps"
   ]
  },
  {
   "cell_type": "markdown",
   "id": "421ddf35",
   "metadata": {},
   "source": [
    "1. Fit the model using an estimation method\n",
    "\n",
    "2. Pass fitted model into ANOVA method to produce ANOVA table\n"
   ]
  },
  {
   "cell_type": "markdown",
   "id": "a6dfa4c6",
   "metadata": {},
   "source": [
    "SYNTAX=ols(\"outcome_variable ~ independent_variable\", data= data_frame).fit()"
   ]
  },
  {
   "cell_type": "markdown",
   "id": "4bb4bdf6",
   "metadata": {},
   "source": [
    "n the case of an ANOVA, the independent variable will be categorical. The pseudo code above would work if you were conducting a simple linear regression, but that's not what we are here for! Have to modify the pseudo code which would make it look like"
   ]
  },
  {
   "cell_type": "markdown",
   "id": "367ae2d9",
   "metadata": {},
   "source": [
    "SYNTAX=ols(\"outcome_variable ~ C(independent_variable)\", data= data_frame).fit()"
   ]
  },
  {
   "cell_type": "code",
   "execution_count": 70,
   "id": "565edfbd",
   "metadata": {},
   "outputs": [
    {
     "name": "stdout",
     "output_type": "stream",
     "text": [
      "          sum_sq     df     F  PR(>F)\n",
      "C(dose)   20.133  2.000 5.119   0.025\n",
      "Residual  23.600 12.000   NaN     NaN \n",
      " note: C(dose)= between samples \n",
      " Residual = within samples\n"
     ]
    }
   ],
   "source": [
    "import statsmodels.api as sm\n",
    "from statsmodels.formula.api import ols\n",
    "\n",
    "model = ols('libido ~ C(dose)', data=df).fit()\n",
    "aov_table = sm.stats.anova_lm(model, typ=2)\n",
    "print(aov_table,\"\\n note: C(dose)= between samples \\n Residual = within samples\") \n"
   ]
  },
  {
   "cell_type": "markdown",
   "id": "83dc2cf9",
   "metadata": {},
   "source": [
    "# ASSUMPTION CHECK\n",
    "\n",
    "\n",
    "The assumptions in this section need to be met in order for the test results to be considered valid. A more in-depth look at parametric assumptions is provided here, which includes some potential remedies."
   ]
  },
  {
   "cell_type": "markdown",
   "id": "c17c4fc5",
   "metadata": {},
   "source": [
    "# INDEPENDENCE\n",
    "\n",
    "\n",
    "This assumption is tested when the study is designed. What this means is that all groups are mutually exclusive, i.e. an individual can only belong in one group. Also, this means that the data is not repeated measures (not collected through time). In this example, this condition is met."
   ]
  },
  {
   "cell_type": "markdown",
   "id": "7ca0de65",
   "metadata": {},
   "source": [
    "# NORMALITY\n",
    "\n",
    "\n",
    "The assumption of normality is tested on the residuals of the model when coming from an ANOVA or regression framework. One method for testing the assumption of normality is the Shapiro-Wilk test. This can be completed using the shapiro() method from scipy.stats. Ensure that scipy.stats is imported for the following method to work. Unfortunately the output is not labelled, but it's (W-test statistic, p-value)."
   ]
  },
  {
   "cell_type": "code",
   "execution_count": 72,
   "id": "c408e2c6",
   "metadata": {},
   "outputs": [
    {
     "data": {
      "text/plain": [
       "ShapiroResult(statistic=0.9166916012763977, pvalue=0.17146942019462585)"
      ]
     },
     "execution_count": 72,
     "metadata": {},
     "output_type": "execute_result"
    }
   ],
   "source": [
    "import scipy.stats as stats\n",
    "\n",
    "stats.shapiro(model.resid)"
   ]
  },
  {
   "cell_type": "markdown",
   "id": "2127a05e",
   "metadata": {},
   "source": [
    "The test is non-significant, W= 0.9167, p= 0.1715, which indicates that the residuals are normally distributed."
   ]
  },
  {
   "cell_type": "markdown",
   "id": "6510a77e",
   "metadata": {},
   "source": [
    "# Visualization"
   ]
  },
  {
   "cell_type": "markdown",
   "id": "92765245",
   "metadata": {},
   "source": [
    "One method of visually checking the distribution is to use a probability plot with or without the correlation value, \n",
    ", to assess the observed values correlation with the theoretical distribution in question - in the current case it would be the Gaussian (a.k.a the normal) distribution. This can be completed by using the probplot() method from Scipy.stats."
   ]
  },
  {
   "cell_type": "code",
   "execution_count": 73,
   "id": "c76d9d3d",
   "metadata": {},
   "outputs": [
    {
     "data": {
      "image/png": "[encoded data removed]",
      "text/plain": [
       "<Figure size 720x720 with 1 Axes>"
      ]
     },
     "metadata": {
      "needs_background": "light"
     },
     "output_type": "display_data"
    }
   ],
   "source": [
    "import matplotlib.pyplot as plt\n",
    "\n",
    "fig = plt.figure(figsize= (10, 10))\n",
    "ax = fig.add_subplot(111)\n",
    "\n",
    "normality_plot, stat = stats.probplot(model.resid, plot= plt, rvalue= True)\n",
    "ax.set_title(\"Probability plot of model residual's\", fontsize= 20)\n",
    "ax.set\n",
    "\n",
    "plt.show()"
   ]
  },
  {
   "cell_type": "markdown",
   "id": "2e3ea652",
   "metadata": {},
   "source": [
    " This is a case where the statistical testing method indicated the residuals were normally distributed, but the probability plot correlation coefficient (PPCC) indicated non-normality. Given the current example's sample size is small, N= 15, the Shapiro-Wilk test indicated normality, and that the calculated PPCC, \n",
    "= 0.9349, is ever so slightly smaller than the table PPC, \n",
    "= 0.9376, it is reasonable to state this assumption is met. However, looking at the plotted probability plot and the residual structure it would also be reasonable to transform the data for the analysis, or to use a non-parametric statistical test such as Welch's ANOVA or the Kruskal-Wallis ANOVA."
   ]
  },
  {
   "cell_type": "markdown",
   "id": "1282e5a0",
   "metadata": {},
   "source": [
    "# HOMOGENEITY OF VARIANCE"
   ]
  },
  {
   "cell_type": "markdown",
   "id": "a9a804df",
   "metadata": {},
   "source": [
    "The final assumption is that all groups have equal variances. One method for testing this assumption is the Levene's test of homogeneity of variances. This can be completed using the levene() method from Scipy.stats."
   ]
  },
  {
   "cell_type": "code",
   "execution_count": 74,
   "id": "bb74ec99",
   "metadata": {},
   "outputs": [
    {
     "data": {
      "text/plain": [
       "LeveneResult(statistic=0.11764705882352934, pvalue=0.8900225182757423)"
      ]
     },
     "execution_count": 74,
     "metadata": {},
     "output_type": "execute_result"
    }
   ],
   "source": [
    "stats.levene(df['libido'][df['dose'] == 'high'],\n",
    "             df['libido'][df['dose'] == 'low'],\n",
    "             df['libido'][df['dose'] == 'placebo'])"
   ]
  },
  {
   "cell_type": "markdown",
   "id": "c22d16ba",
   "metadata": {},
   "source": [
    "The Levene's test of homogeneity of variances is not significant which indicates that the groups have non-statistically significant difference in their varability. Again, it may be worthwhile to check this assumption visually as well."
   ]
  },
  {
   "cell_type": "code",
   "execution_count": 75,
   "id": "28d1e57e",
   "metadata": {},
   "outputs": [
    {
     "data": {
      "image/png": "[encoded data removed]",
      "text/plain": [
       "<Figure size 720x720 with 1 Axes>"
      ]
     },
     "metadata": {
      "needs_background": "light"
     },
     "output_type": "display_data"
    }
   ],
   "source": [
    "fig = plt.figure(figsize= (10, 10))\n",
    "ax = fig.add_subplot(111)\n",
    "\n",
    "ax.set_title(\"Box Plot of Libido by Dosage\", fontsize= 20)\n",
    "ax.set\n",
    "\n",
    "data = [df['libido'][df['dose'] == 'placebo'],\n",
    "        df['libido'][df['dose'] == 'low'],\n",
    "        df['libido'][df['dose'] == 'high']]\n",
    "\n",
    "ax.boxplot(data,\n",
    "           labels= ['Placebo', 'Low', 'High'],\n",
    "           showmeans= True)\n",
    "\n",
    "plt.xlabel(\"Drug Dosage\")\n",
    "plt.ylabel(\"Libido Score\")\n",
    "\n",
    "plt.show()\n"
   ]
  },
  {
   "cell_type": "markdown",
   "id": "3f1ec937",
   "metadata": {},
   "source": [
    "The graphical testing of homogeneity of variances supports the statistical testing findings which is the groups have equal variance"
   ]
  },
  {
   "cell_type": "markdown",
   "id": "2def580f",
   "metadata": {},
   "source": [
    "# POST-HOC TESTING"
   ]
  },
  {
   "cell_type": "markdown",
   "id": "98371482",
   "metadata": {},
   "source": [
    "By conducting post-hoc tests or planned comparisons it allows one to see which group(s) significantly differ from each other; remember that the ANOVA is an omnibus test! There are a few different approaches that can be taken while conducting these tests, ones that are implemented in StatsModels currently are:"
   ]
  },
  {
   "cell_type": "markdown",
   "id": "eb456ef3",
   "metadata": {},
   "source": [
    "# * Tukey Honestly Significant Difference (HSD)"
   ]
  },
  {
   "cell_type": "markdown",
   "id": "bfa78e25",
   "metadata": {},
   "source": [
    "Tests all pairwise group comparisons while controlling for the multiple comparisons which protects the familywise error rate and from making a Type I error\n",
    "\n",
    "\n",
    "Not technically a \"post-hoc\" test since this test can be used as a test independently of the ANOVA and can be planned before hand"
   ]
  },
  {
   "cell_type": "code",
   "execution_count": 76,
   "id": "dbb6b9e8",
   "metadata": {},
   "outputs": [
    {
     "data": {
      "text/html": [
       "<table class=\"simpletable\">\n",
       "<caption>Multiple Comparison of Means - Tukey HSD, FWER=0.05</caption>\n",
       "<tr>\n",
       "  <th>group1</th> <th>group2</th>  <th>meandiff</th>  <th>p-adj</th>  <th>lower</th>   <th>upper</th>  <th>reject</th>\n",
       "</tr>\n",
       "<tr>\n",
       "   <td>high</td>    <td>low</td>     <td>-1.8</td>   <td>0.1472</td> <td>-4.1651</td> <td>0.5651</td>   <td>False</td>\n",
       "</tr>\n",
       "<tr>\n",
       "   <td>high</td>  <td>placebo</td>   <td>-2.8</td>   <td>0.0209</td> <td>-5.1651</td> <td>-0.4349</td>  <td>True</td> \n",
       "</tr>\n",
       "<tr>\n",
       "    <td>low</td>  <td>placebo</td>   <td>-1.0</td>   <td>0.5171</td> <td>-3.3651</td> <td>1.3651</td>   <td>False</td>\n",
       "</tr>\n",
       "</table>"
      ],
      "text/plain": [
       "<class 'statsmodels.iolib.table.SimpleTable'>"
      ]
     },
     "execution_count": 76,
     "metadata": {},
     "output_type": "execute_result"
    }
   ],
   "source": [
    "import statsmodels.stats.multicomp as mc\n",
    "\n",
    "comp = mc.MultiComparison(df['libido'], df['dose'])\n",
    "post_hoc_res = comp.tukeyhsd()\n",
    "post_hoc_res.summary()"
   ]
  },
  {
   "cell_type": "markdown",
   "id": "7d97d9e2",
   "metadata": {},
   "source": [
    "Now to make sense of the table.\n",
    "\n",
    "At the top the table testing information is provided\n",
    "\n",
    "FWER is the familywise error rate, i.e. what  is being set to and controlled at\n",
    "\n",
    "group1 and group2 columns are the groups being compared\n",
    "\n",
    "meandiff is the difference between the group means\n",
    "\n",
    "p-adj is the corrected p-value which takes into account the multiple comparisons being conducted\n",
    "\n",
    "lower is the lower band of the confidence interval. In the current example the confidence interval at the 95% level since = 0.05.\n",
    "\n",
    "upper is the upper band of the confidence interval. In the current example the confidence interval at the 95% level since = 0.05.\n",
    "\n",
    "reject is the decision rule based on the corrected p-value\n",
    "\n",
    "It is possible to plot the difference using this method as well"
   ]
  },
  {
   "cell_type": "code",
   "execution_count": 77,
   "id": "39181dc7",
   "metadata": {},
   "outputs": [
    {
     "name": "stderr",
     "output_type": "stream",
     "text": [
      "E:\\ANAXONDA\\lib\\site-packages\\statsmodels\\sandbox\\stats\\multicomp.py:775: UserWarning: FixedFormatter should only be used together with FixedLocator\n",
      "  ax1.set_yticklabels(np.insert(self.groupsunique.astype(str), 0, ''))\n"
     ]
    },
    {
     "data": {
      "image/png": "[encoded data removed]",
      "text/plain": [
       "<Figure size 720x432 with 1 Axes>"
      ]
     },
     "execution_count": 77,
     "metadata": {},
     "output_type": "execute_result"
    },
    {
     "data": {
      "image/png": "[encoded data removed]",
      "text/plain": [
       "<Figure size 720x432 with 1 Axes>"
      ]
     },
     "metadata": {
      "needs_background": "light"
     },
     "output_type": "display_data"
    }
   ],
   "source": [
    "post_hoc_res.plot_simultaneous(ylabel= \"Drug Dose\", xlabel= \"Score Difference\")"
   ]
  },
  {
   "cell_type": "markdown",
   "id": "4755d0ae",
   "metadata": {},
   "source": [
    "Using Tukey HSD to test for differences between groups indicates that there is a statistically significant difference in libido score between those who took the placebo and those who took the high dosage of the medication, no other groups differed significantly. What this indicates is that the high dosage of the medication is effective at increasing libido, but the low dosage is not."
   ]
  },
  {
   "cell_type": "markdown",
   "id": "af025433",
   "metadata": {},
   "source": [
    "# Bonferroni"
   ]
  },
  {
   "cell_type": "markdown",
   "id": "1b498d1f",
   "metadata": {},
   "source": [
    "Tests groups for a difference while controlling for the multiple comparisons which protects the familywise error rate and from making a Type I error. It should be noted that some statistical software reports the Bonferroni adjusted confidence interval, however this is not the case in Python at this time \n",
    "\n",
    "This method is common because it is fast to calculate - take the number of groups to be compared and divide that by the initial alpha value \n",
    " \n",
    "   \n",
    " \n",
    ".\n"
   ]
  },
  {
   "cell_type": "markdown",
   "id": "3580cd34",
   "metadata": {},
   "source": [
    "# SYNTAX = allpairtest(statistical_test_method, method= \"correction_method\")"
   ]
  },
  {
   "cell_type": "code",
   "execution_count": null,
   "id": "89e03a87",
   "metadata": {},
   "outputs": [],
   "source": []
  },
  {
   "cell_type": "code",
   "execution_count": 78,
   "id": "1d0e6084",
   "metadata": {},
   "outputs": [
    {
     "data": {
      "text/html": [
       "<table class=\"simpletable\">\n",
       "<caption>Test Multiple Comparison ttest_ind \n",
       "FWER=0.05 method=bonf\n",
       "alphacSidak=0.02, alphacBonf=0.017</caption>\n",
       "<tr>\n",
       "  <th>group1</th> <th>group2</th>   <th>stat</th>   <th>pval</th>  <th>pval_corr</th> <th>reject</th>\n",
       "</tr>\n",
       "<tr>\n",
       "   <td>high</td>    <td>low</td>    <td>1.964</td> <td>0.0851</td>  <td>0.2554</td>    <td>False</td>\n",
       "</tr>\n",
       "<tr>\n",
       "   <td>high</td>  <td>placebo</td> <td>3.0551</td> <td>0.0157</td>  <td>0.0471</td>    <td>True</td> \n",
       "</tr>\n",
       "<tr>\n",
       "    <td>low</td>  <td>placebo</td> <td>1.2127</td> <td>0.2598</td>  <td>0.7795</td>    <td>False</td>\n",
       "</tr>\n",
       "</table>"
      ],
      "text/plain": [
       "<class 'statsmodels.iolib.table.SimpleTable'>"
      ]
     },
     "execution_count": 78,
     "metadata": {},
     "output_type": "execute_result"
    }
   ],
   "source": [
    "import statsmodels.stats.multicomp as mc\n",
    "\n",
    "comp = mc.MultiComparison(df['libido'], df['dose'])\n",
    "tbl, a1, a2 = comp.allpairtest(stats.ttest_ind, method= \"bonf\")\n",
    "\n",
    "tbl"
   ]
  },
  {
   "cell_type": "markdown",
   "id": "38568080",
   "metadata": {},
   "source": [
    "# Now to make sense of the table.\n",
    "\n",
    "At the top the table testing information is provided\n",
    "\n",
    "FWER is the familywise error rate, i.e. what  is being set to and controlled at\n",
    "\n",
    "method is the correction method that is being applied to the p-values\n",
    "\n",
    "Then there is the adjusted p-value (adjusted ) for both the Sidak and Bonferroni correction methods\n",
    "\n",
    "group1 and group2 columns are the groups being compared\n",
    "\n",
    "stat is the test statistic value; in this case it would be the t statistic\n",
    "\n",
    "pval is the uncorrected p-value returned from the supplied \"statistical_test_method\"\n",
    "\n",
    "pval_corr is the corrected p-value which has been corrected using whichever \"correction_method\" was supplied\n",
    "\n",
    "reject is the decision rule based on the corrected p-value"
   ]
  },
  {
   "cell_type": "markdown",
   "id": "1ab74328",
   "metadata": {},
   "source": [
    "Conducting comparisons using the Bonferroni correction indicates that the only groups that differed significantly are those who took the high dose and the placebo dose"
   ]
  },
  {
   "cell_type": "markdown",
   "id": "468db2b8",
   "metadata": {},
   "source": [
    "# ŠIDÁK CORRECTION (A.K.A. DUNN-ŠIDÁK CORRECTION)"
   ]
  },
  {
   "cell_type": "markdown",
   "id": "6bb2a7ef",
   "metadata": {},
   "source": [
    "# syntax = allpairtest(statistical_test_method, method= \"correction_method\")"
   ]
  },
  {
   "cell_type": "code",
   "execution_count": 79,
   "id": "e6b1fb4d",
   "metadata": {},
   "outputs": [
    {
     "data": {
      "text/html": [
       "<table class=\"simpletable\">\n",
       "<caption>Test Multiple Comparison ttest_ind \n",
       "FWER=0.05 method=sidak\n",
       "alphacSidak=0.02, alphacBonf=0.017</caption>\n",
       "<tr>\n",
       "  <th>group1</th> <th>group2</th>   <th>stat</th>   <th>pval</th>  <th>pval_corr</th> <th>reject</th>\n",
       "</tr>\n",
       "<tr>\n",
       "   <td>high</td>    <td>low</td>    <td>1.964</td> <td>0.0851</td>  <td>0.2343</td>    <td>False</td>\n",
       "</tr>\n",
       "<tr>\n",
       "   <td>high</td>  <td>placebo</td> <td>3.0551</td> <td>0.0157</td>  <td>0.0464</td>    <td>True</td> \n",
       "</tr>\n",
       "<tr>\n",
       "    <td>low</td>  <td>placebo</td> <td>1.2127</td> <td>0.2598</td>  <td>0.5945</td>    <td>False</td>\n",
       "</tr>\n",
       "</table>"
      ],
      "text/plain": [
       "<class 'statsmodels.iolib.table.SimpleTable'>"
      ]
     },
     "execution_count": 79,
     "metadata": {},
     "output_type": "execute_result"
    }
   ],
   "source": [
    "import statsmodels.stats.multicomp as mc\n",
    "\n",
    "comp = mc.MultiComparison(df['libido'], df['dose'])\n",
    "tbl, a1, a2 = comp.allpairtest(stats.ttest_ind, method= \"sidak\")\n",
    "\n",
    "tbl"
   ]
  },
  {
   "cell_type": "markdown",
   "id": "b1ce41e0",
   "metadata": {},
   "source": [
    "\n",
    "At the top the table testing information is provided\n",
    "\n",
    "FWER is the familywise error rate, i.e. what alpha is being set to and controlled at\n",
    " \n",
    " method is the correction method that is being applied to the p-values\n",
    "\n",
    "Then there is the adjusted p-value (adjusted ) for both the Sidak and Bonferroni correction methods\n",
    "\n",
    "group1 and group2 columns are the groups being compared\n",
    "\n",
    "stat is the test statistic value; in this case it would be the t statistic\n",
    "\n",
    "pval is the uncorrected p-value returned from the supplied \"statistical_test_method\"\n",
    "\n",
    "pval_corr is the corrected p-value which has been corrected using whichever \"correction_method\" was supplied\n",
    "\n",
    "reject is the decision rule based on the corrected p-value\n",
    "\n",
    "Conducting comparisons using the Šidák correction indicates that the only groups that differed \n",
    "\n",
    "significantly are those who took the high dose and the placebo dose"
   ]
  },
  {
   "cell_type": "markdown",
   "id": "5e772cb6",
   "metadata": {},
   "source": []
  },
  {
   "cell_type": "markdown",
   "id": "b18cf0f3",
   "metadata": {},
   "source": [
    "# Two Way F-test:"
   ]
  },
  {
   "cell_type": "markdown",
   "id": "57a45d44",
   "metadata": {},
   "source": [
    "Two way F-test is extension of 1-way f-test, it is used when we have 2 independent variable and 2+ groups. 2-way F-test does not tell which variable is dominant. if we need to check individual significance then Post-hoc testing need to be performed.\n",
    "\n",
    "\n",
    "Now let’s take a look at the Grand mean crop yield (the mean crop yield not by any sub-group), as well the mean crop yield by each factor, as well as by the factors grouped together"
   ]
  },
  {
   "cell_type": "markdown",
   "id": "f82aef72",
   "metadata": {},
   "source": [
    "# EXAMPLE 1"
   ]
  },
  {
   "cell_type": "code",
   "execution_count": 80,
   "id": "7bbc8a72",
   "metadata": {},
   "outputs": [
    {
     "name": "stdout",
     "output_type": "stream",
     "text": [
      "Overall model F( 3, 16) =  4.112, p =  0.0243\n"
     ]
    },
    {
     "data": {
      "text/html": [
       "<div>\n",
       "<style scoped>\n",
       "    .dataframe tbody tr th:only-of-type {\n",
       "        vertical-align: middle;\n",
       "    }\n",
       "\n",
       "    .dataframe tbody tr th {\n",
       "        vertical-align: top;\n",
       "    }\n",
       "\n",
       "    .dataframe thead th {\n",
       "        text-align: right;\n",
       "    }\n",
       "</style>\n",
       "<table border=\"1\" class=\"dataframe\">\n",
       "  <thead>\n",
       "    <tr style=\"text-align: right;\">\n",
       "      <th></th>\n",
       "      <th>sum_sq</th>\n",
       "      <th>df</th>\n",
       "      <th>F</th>\n",
       "      <th>PR(&gt;F)</th>\n",
       "    </tr>\n",
       "  </thead>\n",
       "  <tbody>\n",
       "    <tr>\n",
       "      <th>C(Fert)</th>\n",
       "      <td>69.192</td>\n",
       "      <td>1.000</td>\n",
       "      <td>5.766</td>\n",
       "      <td>0.029</td>\n",
       "    </tr>\n",
       "    <tr>\n",
       "      <th>C(Water)</th>\n",
       "      <td>63.368</td>\n",
       "      <td>1.000</td>\n",
       "      <td>5.281</td>\n",
       "      <td>0.035</td>\n",
       "    </tr>\n",
       "    <tr>\n",
       "      <th>C(Fert):C(Water)</th>\n",
       "      <td>15.488</td>\n",
       "      <td>1.000</td>\n",
       "      <td>1.291</td>\n",
       "      <td>0.273</td>\n",
       "    </tr>\n",
       "    <tr>\n",
       "      <th>Residual</th>\n",
       "      <td>192.000</td>\n",
       "      <td>16.000</td>\n",
       "      <td>NaN</td>\n",
       "      <td>NaN</td>\n",
       "    </tr>\n",
       "  </tbody>\n",
       "</table>\n",
       "</div>"
      ],
      "text/plain": [
       "                  sum_sq     df     F  PR(>F)\n",
       "C(Fert)           69.192  1.000 5.766   0.029\n",
       "C(Water)          63.368  1.000 5.281   0.035\n",
       "C(Fert):C(Water)  15.488  1.000 1.291   0.273\n",
       "Residual         192.000 16.000   NaN     NaN"
      ]
     },
     "execution_count": 80,
     "metadata": {},
     "output_type": "execute_result"
    }
   ],
   "source": [
    "import statsmodels.api as sm\n",
    "from statsmodels.formula.api import ols\n",
    "df_anova2 = pd.read_csv(\"https://raw.githubusercontent.com/Opensourcefordatascience/Data-sets/master/crop_yield.csv\")\n",
    "model = ols('Yield ~ C(Fert)*C(Water)', df_anova2).fit()\n",
    "print(f\"Overall model F({model.df_model: .0f},{model.df_resid: .0f}) = {model.fvalue: .3f}, p = {model.f_pvalue: .4f}\")\n",
    "res = sm.stats.anova_lm(model, typ= 2)\n",
    "res"
   ]
  },
  {
   "cell_type": "markdown",
   "id": "617b59b1",
   "metadata": {},
   "source": [
    "# Example 2"
   ]
  },
  {
   "cell_type": "markdown",
   "id": "55a9583c",
   "metadata": {},
   "source": [
    "Step 1: Enter the data.\n",
    "\n",
    "First, we’ll create a pandas DataFrame that contains the following three variables:\n",
    "\n",
    "\n",
    "\n",
    "\n",
    "    water: how frequently each plant was watered: daily or weekly\n",
    "\n",
    "        sun: how much sunlight exposure each plant received: low, medium, or high\n",
    "\n",
    "                height: the height of each plant (in inches) after two months"
   ]
  },
  {
   "cell_type": "code",
   "execution_count": 83,
   "id": "a6a32a09",
   "metadata": {},
   "outputs": [
    {
     "data": {
      "text/html": [
       "<div>\n",
       "<style scoped>\n",
       "    .dataframe tbody tr th:only-of-type {\n",
       "        vertical-align: middle;\n",
       "    }\n",
       "\n",
       "    .dataframe tbody tr th {\n",
       "        vertical-align: top;\n",
       "    }\n",
       "\n",
       "    .dataframe thead th {\n",
       "        text-align: right;\n",
       "    }\n",
       "</style>\n",
       "<table border=\"1\" class=\"dataframe\">\n",
       "  <thead>\n",
       "    <tr style=\"text-align: right;\">\n",
       "      <th></th>\n",
       "      <th>water</th>\n",
       "      <th>sun</th>\n",
       "      <th>height</th>\n",
       "    </tr>\n",
       "  </thead>\n",
       "  <tbody>\n",
       "    <tr>\n",
       "      <th>0</th>\n",
       "      <td>daily</td>\n",
       "      <td>low</td>\n",
       "      <td>6</td>\n",
       "    </tr>\n",
       "    <tr>\n",
       "      <th>1</th>\n",
       "      <td>daily</td>\n",
       "      <td>low</td>\n",
       "      <td>6</td>\n",
       "    </tr>\n",
       "    <tr>\n",
       "      <th>2</th>\n",
       "      <td>daily</td>\n",
       "      <td>low</td>\n",
       "      <td>6</td>\n",
       "    </tr>\n",
       "    <tr>\n",
       "      <th>3</th>\n",
       "      <td>daily</td>\n",
       "      <td>low</td>\n",
       "      <td>5</td>\n",
       "    </tr>\n",
       "    <tr>\n",
       "      <th>4</th>\n",
       "      <td>daily</td>\n",
       "      <td>low</td>\n",
       "      <td>6</td>\n",
       "    </tr>\n",
       "    <tr>\n",
       "      <th>5</th>\n",
       "      <td>daily</td>\n",
       "      <td>med</td>\n",
       "      <td>5</td>\n",
       "    </tr>\n",
       "    <tr>\n",
       "      <th>6</th>\n",
       "      <td>daily</td>\n",
       "      <td>med</td>\n",
       "      <td>5</td>\n",
       "    </tr>\n",
       "    <tr>\n",
       "      <th>7</th>\n",
       "      <td>daily</td>\n",
       "      <td>med</td>\n",
       "      <td>6</td>\n",
       "    </tr>\n",
       "    <tr>\n",
       "      <th>8</th>\n",
       "      <td>daily</td>\n",
       "      <td>med</td>\n",
       "      <td>4</td>\n",
       "    </tr>\n",
       "    <tr>\n",
       "      <th>9</th>\n",
       "      <td>daily</td>\n",
       "      <td>med</td>\n",
       "      <td>5</td>\n",
       "    </tr>\n",
       "  </tbody>\n",
       "</table>\n",
       "</div>"
      ],
      "text/plain": [
       "   water  sun  height\n",
       "0  daily  low       6\n",
       "1  daily  low       6\n",
       "2  daily  low       6\n",
       "3  daily  low       5\n",
       "4  daily  low       6\n",
       "5  daily  med       5\n",
       "6  daily  med       5\n",
       "7  daily  med       6\n",
       "8  daily  med       4\n",
       "9  daily  med       5"
      ]
     },
     "execution_count": 83,
     "metadata": {},
     "output_type": "execute_result"
    }
   ],
   "source": [
    "df = pd.DataFrame({'water': np.repeat(['daily', 'weekly'], 15),\n",
    "                   'sun': np.tile(np.repeat(['low', 'med', 'high'], 5), 2),\n",
    "                   'height': [6, 6, 6, 5, 6, 5, 5, 6, 4, 5,\n",
    "                              6, 6, 7, 8, 7, 3, 4, 4, 4, 5,\n",
    "                              4, 4, 4, 4, 4, 5, 6, 6, 7, 8]})\n",
    "\n",
    "\n",
    "#view first ten rows of data \n",
    "df[:10]"
   ]
  },
  {
   "cell_type": "markdown",
   "id": "fe9b3e5b",
   "metadata": {},
   "source": [
    "# Step 2: Perform the two-way ANOVA.\n",
    "\n",
    "Next, we’ll perform the two-way ANOVA using the anova_lm() function from the statsmodels library:"
   ]
  },
  {
   "cell_type": "code",
   "execution_count": 84,
   "id": "66ed0ee1",
   "metadata": {},
   "outputs": [
    {
     "data": {
      "text/html": [
       "<div>\n",
       "<style scoped>\n",
       "    .dataframe tbody tr th:only-of-type {\n",
       "        vertical-align: middle;\n",
       "    }\n",
       "\n",
       "    .dataframe tbody tr th {\n",
       "        vertical-align: top;\n",
       "    }\n",
       "\n",
       "    .dataframe thead th {\n",
       "        text-align: right;\n",
       "    }\n",
       "</style>\n",
       "<table border=\"1\" class=\"dataframe\">\n",
       "  <thead>\n",
       "    <tr style=\"text-align: right;\">\n",
       "      <th></th>\n",
       "      <th>sum_sq</th>\n",
       "      <th>df</th>\n",
       "      <th>F</th>\n",
       "      <th>PR(&gt;F)</th>\n",
       "    </tr>\n",
       "  </thead>\n",
       "  <tbody>\n",
       "    <tr>\n",
       "      <th>C(water)</th>\n",
       "      <td>8.533</td>\n",
       "      <td>1.000</td>\n",
       "      <td>16.000</td>\n",
       "      <td>0.001</td>\n",
       "    </tr>\n",
       "    <tr>\n",
       "      <th>C(sun)</th>\n",
       "      <td>24.867</td>\n",
       "      <td>2.000</td>\n",
       "      <td>23.312</td>\n",
       "      <td>0.000</td>\n",
       "    </tr>\n",
       "    <tr>\n",
       "      <th>C(water):C(sun)</th>\n",
       "      <td>2.467</td>\n",
       "      <td>2.000</td>\n",
       "      <td>2.312</td>\n",
       "      <td>0.121</td>\n",
       "    </tr>\n",
       "    <tr>\n",
       "      <th>Residual</th>\n",
       "      <td>12.800</td>\n",
       "      <td>24.000</td>\n",
       "      <td>NaN</td>\n",
       "      <td>NaN</td>\n",
       "    </tr>\n",
       "  </tbody>\n",
       "</table>\n",
       "</div>"
      ],
      "text/plain": [
       "                 sum_sq     df      F  PR(>F)\n",
       "C(water)          8.533  1.000 16.000   0.001\n",
       "C(sun)           24.867  2.000 23.312   0.000\n",
       "C(water):C(sun)   2.467  2.000  2.312   0.121\n",
       "Residual         12.800 24.000    NaN     NaN"
      ]
     },
     "execution_count": 84,
     "metadata": {},
     "output_type": "execute_result"
    }
   ],
   "source": [
    "import statsmodels.api as sm\n",
    "from statsmodels.formula.api import ols\n",
    "\n",
    "#perform two-way ANOVA\n",
    "model = ols('height ~ C(water) + C(sun) + C(water):C(sun)', data=df).fit()\n",
    "sm.stats.anova_lm(model, typ=2)"
   ]
  },
  {
   "cell_type": "markdown",
   "id": "b0303b8d",
   "metadata": {},
   "source": [
    "# Step 3: Interpret the results.\n",
    "\n",
    "We can see the following p-values for each of the factors in the table:\n",
    "\n",
    "water: p-value = .000527\n",
    "sun: p-value = .0000002\n",
    "water*sun: p-value = .120667"
   ]
  },
  {
   "cell_type": "markdown",
   "id": "f6c92566",
   "metadata": {},
   "source": [
    "Since the p-values for water and sun are both less than .05, this means that both factors have a statistically significant effect on plant height.\n",
    "\n",
    "And since the p-value for the interaction effect (.120667) is not less than .05, this tells us that there is no significant interaction effect between sunlight exposure and watering frequency."
   ]
  },
  {
   "cell_type": "code",
   "execution_count": null,
   "id": "49f6e508",
   "metadata": {},
   "outputs": [],
   "source": []
  },
  {
   "cell_type": "markdown",
   "id": "2e96b599",
   "metadata": {},
   "source": [
    "# Chi-Square Test- \n",
    "The test is applied when you have two categorical variables from a single population. It is used to determine whether there is a significant association between the two variables."
   ]
  },
  {
   "cell_type": "markdown",
   "id": "899f159f",
   "metadata": {},
   "source": [
    "# Hypotheses for Chi-square test for independence"
   ]
  },
  {
   "cell_type": "markdown",
   "id": "0deb41ed",
   "metadata": {},
   "source": [
    "Null hypothesis: The two categorical variables are independent (no association between the two variables) ( H0: Oi = Ei )\n",
    "\n",
    "    Alternative hypothesis: The two categorical variables are dependent (there is an association between the two variables) ( Ha: Oi ≠ Ei )\n",
    "\n",
    "        Note: There are no one or two-tailed p value. Rejection region of the chi-square test is always on the right side of the distribution."
   ]
  },
  {
   "cell_type": "markdown",
   "id": "bee109aa",
   "metadata": {},
   "source": [
    "# Chi-square test assumptionsPermalink\n",
    "\n",
    "The two variables are categorical (nominal) and data is randomly sampled\n",
    "\n",
    "\n",
    "The levels of variables are mutually exclusive\n",
    "\n",
    "The expected frequency count for at least 80% of the cell in a contingency table is at least 5\n",
    "\n",
    "The expected frequency count should not be less than 1\n",
    "\n",
    "Observations should be independent of each other\n",
    "\n",
    "Observation data should be frequency counts and not \n",
    "percentages, proportions or transformed data"
   ]
  },
  {
   "cell_type": "code",
   "execution_count": null,
   "id": "9a2c6427",
   "metadata": {},
   "outputs": [],
   "source": []
  },
  {
   "cell_type": "code",
   "execution_count": 88,
   "id": "6ffb49ca",
   "metadata": {},
   "outputs": [
    {
     "name": "stdout",
     "output_type": "stream",
     "text": [
      "Collecting bioinfokit==0.3\n",
      "  Downloading bioinfokit-0.3-py3-none-any.whl (15 kB)\n",
      "Collecting textwrap3\n",
      "  Downloading textwrap3-0.9.2-py2.py3-none-any.whl (12 kB)\n",
      "Requirement already satisfied: seaborn in e:\\anaxonda\\lib\\site-packages (from bioinfokit==0.3) (0.11.2)\n",
      "Requirement already satisfied: scikit-learn in e:\\anaxonda\\lib\\site-packages (from bioinfokit==0.3) (0.24.2)\n",
      "Requirement already satisfied: termcolor in e:\\anaxonda\\lib\\site-packages (from bioinfokit==0.3) (1.1.0)\n",
      "Requirement already satisfied: statsmodels in e:\\anaxonda\\lib\\site-packages (from bioinfokit==0.3) (0.12.2)\n",
      "Collecting adjustText\n",
      "  Downloading adjustText-0.7.3.tar.gz (7.5 kB)\n",
      "Requirement already satisfied: pandas in e:\\anaxonda\\lib\\site-packages (from bioinfokit==0.3) (1.3.2)\n",
      "Requirement already satisfied: matplotlib in e:\\anaxonda\\lib\\site-packages (from bioinfokit==0.3) (3.4.2)\n",
      "Collecting tabulate\n",
      "  Downloading tabulate-0.8.9-py3-none-any.whl (25 kB)\n",
      "Requirement already satisfied: numpy in e:\\anaxonda\\lib\\site-packages (from bioinfokit==0.3) (1.20.3)\n",
      "Requirement already satisfied: scipy in e:\\anaxonda\\lib\\site-packages (from bioinfokit==0.3) (1.6.2)\n",
      "Collecting matplotlib-venn\n",
      "  Downloading matplotlib-venn-0.11.6.tar.gz (29 kB)\n",
      "Requirement already satisfied: pyparsing>=2.2.1 in e:\\anaxonda\\lib\\site-packages (from matplotlib->bioinfokit==0.3) (2.4.7)\n",
      "Requirement already satisfied: cycler>=0.10 in e:\\anaxonda\\lib\\site-packages (from matplotlib->bioinfokit==0.3) (0.10.0)\n",
      "Requirement already satisfied: python-dateutil>=2.7 in e:\\anaxonda\\lib\\site-packages (from matplotlib->bioinfokit==0.3) (2.8.2)\n",
      "Requirement already satisfied: pillow>=6.2.0 in e:\\anaxonda\\lib\\site-packages (from matplotlib->bioinfokit==0.3) (8.3.1)\n",
      "Requirement already satisfied: kiwisolver>=1.0.1 in e:\\anaxonda\\lib\\site-packages (from matplotlib->bioinfokit==0.3) (1.3.1)\n",
      "Requirement already satisfied: six in e:\\anaxonda\\lib\\site-packages (from cycler>=0.10->matplotlib->bioinfokit==0.3) (1.16.0)\n",
      "Requirement already satisfied: pytz>=2017.3 in e:\\anaxonda\\lib\\site-packages (from pandas->bioinfokit==0.3) (2021.1)\n",
      "Requirement already satisfied: threadpoolctl>=2.0.0 in e:\\anaxonda\\lib\\site-packages (from scikit-learn->bioinfokit==0.3) (2.2.0)\n",
      "Requirement already satisfied: joblib>=0.11 in e:\\anaxonda\\lib\\site-packages (from scikit-learn->bioinfokit==0.3) (1.0.1)\n",
      "Requirement already satisfied: patsy>=0.5 in e:\\anaxonda\\lib\\site-packages (from statsmodels->bioinfokit==0.3) (0.5.1)\n",
      "Building wheels for collected packages: adjustText, matplotlib-venn\n",
      "  Building wheel for adjustText (setup.py): started\n",
      "  Building wheel for adjustText (setup.py): finished with status 'done'\n",
      "  Created wheel for adjustText: filename=adjustText-0.7.3-py3-none-any.whl size=7097 sha256=6e7ad9e24a5096b0d12864245cc501e6f2b003bb97b7b270e1e32088a06bee0a\n",
      "  Stored in directory: c:\\users\\home\\appdata\\local\\pip\\cache\\wheels\\06\\b2\\e0\\b239bd2c0ff89b98c4f0c86a63e7059f38a8dfaf6df2641c63\n",
      "  Building wheel for matplotlib-venn (setup.py): started\n",
      "  Building wheel for matplotlib-venn (setup.py): finished with status 'done'\n",
      "  Created wheel for matplotlib-venn: filename=matplotlib_venn-0.11.6-py3-none-any.whl size=32061 sha256=7f4eccc818087259537ccd19e87e4d984db8852a7cfc79d9077acc8025056f63\n",
      "  Stored in directory: c:\\users\\home\\appdata\\local\\pip\\cache\\wheels\\82\\e4\\64\\dd790d424818bc2f59c11471a1eee5dc8cfcd3f8ee8c4812fa\n",
      "Successfully built adjustText matplotlib-venn\n",
      "Installing collected packages: textwrap3, tabulate, matplotlib-venn, adjustText, bioinfokit\n",
      "Successfully installed adjustText-0.7.3 bioinfokit-0.3 matplotlib-venn-0.11.6 tabulate-0.8.9 textwrap3-0.9.2\n"
     ]
    }
   ],
   "source": [
    "!pip install bioinfokit==0.3"
   ]
  },
  {
   "cell_type": "code",
   "execution_count": 91,
   "id": "2ae7c1d0",
   "metadata": {},
   "outputs": [],
   "source": [
    "from bioinfokit.analys import stat\n",
    "df = pd.read_csv(\"C:/Users/HOME/Desktop/dataset/kaggle_dataset/drugdata.csv\")"
   ]
  },
  {
   "cell_type": "code",
   "execution_count": 92,
   "id": "d2bc2af2",
   "metadata": {},
   "outputs": [
    {
     "data": {
      "text/html": [
       "<div>\n",
       "<style scoped>\n",
       "    .dataframe tbody tr th:only-of-type {\n",
       "        vertical-align: middle;\n",
       "    }\n",
       "\n",
       "    .dataframe tbody tr th {\n",
       "        vertical-align: top;\n",
       "    }\n",
       "\n",
       "    .dataframe thead th {\n",
       "        text-align: right;\n",
       "    }\n",
       "</style>\n",
       "<table border=\"1\" class=\"dataframe\">\n",
       "  <thead>\n",
       "    <tr style=\"text-align: right;\">\n",
       "      <th></th>\n",
       "      <th>treatments</th>\n",
       "      <th>cured</th>\n",
       "      <th>noncured</th>\n",
       "    </tr>\n",
       "  </thead>\n",
       "  <tbody>\n",
       "    <tr>\n",
       "      <th>0</th>\n",
       "      <td>treated</td>\n",
       "      <td>60</td>\n",
       "      <td>10</td>\n",
       "    </tr>\n",
       "    <tr>\n",
       "      <th>1</th>\n",
       "      <td>nontreated</td>\n",
       "      <td>30</td>\n",
       "      <td>25</td>\n",
       "    </tr>\n",
       "  </tbody>\n",
       "</table>\n",
       "</div>"
      ],
      "text/plain": [
       "   treatments  cured  noncured\n",
       "0     treated     60        10\n",
       "1  nontreated     30        25"
      ]
     },
     "execution_count": 92,
     "metadata": {},
     "output_type": "execute_result"
    }
   ],
   "source": [
    "df.head()"
   ]
  },
  {
   "cell_type": "code",
   "execution_count": 93,
   "id": "d8a003ab",
   "metadata": {},
   "outputs": [],
   "source": [
    "# set treatments column as index\n",
    "df = df.set_index('treatments')"
   ]
  },
  {
   "cell_type": "code",
   "execution_count": 94,
   "id": "77c6eae7",
   "metadata": {},
   "outputs": [
    {
     "data": {
      "text/html": [
       "<div>\n",
       "<style scoped>\n",
       "    .dataframe tbody tr th:only-of-type {\n",
       "        vertical-align: middle;\n",
       "    }\n",
       "\n",
       "    .dataframe tbody tr th {\n",
       "        vertical-align: top;\n",
       "    }\n",
       "\n",
       "    .dataframe thead th {\n",
       "        text-align: right;\n",
       "    }\n",
       "</style>\n",
       "<table border=\"1\" class=\"dataframe\">\n",
       "  <thead>\n",
       "    <tr style=\"text-align: right;\">\n",
       "      <th></th>\n",
       "      <th>cured</th>\n",
       "      <th>noncured</th>\n",
       "    </tr>\n",
       "    <tr>\n",
       "      <th>treatments</th>\n",
       "      <th></th>\n",
       "      <th></th>\n",
       "    </tr>\n",
       "  </thead>\n",
       "  <tbody>\n",
       "    <tr>\n",
       "      <th>treated</th>\n",
       "      <td>60</td>\n",
       "      <td>10</td>\n",
       "    </tr>\n",
       "    <tr>\n",
       "      <th>nontreated</th>\n",
       "      <td>30</td>\n",
       "      <td>25</td>\n",
       "    </tr>\n",
       "  </tbody>\n",
       "</table>\n",
       "</div>"
      ],
      "text/plain": [
       "            cured  noncured\n",
       "treatments                 \n",
       "treated        60        10\n",
       "nontreated     30        25"
      ]
     },
     "execution_count": 94,
     "metadata": {},
     "output_type": "execute_result"
    }
   ],
   "source": [
    "# output\n",
    "df.head()"
   ]
  },
  {
   "cell_type": "code",
   "execution_count": 100,
   "id": "3f220c46",
   "metadata": {},
   "outputs": [
    {
     "data": {
      "text/plain": [
       "<function __main__.<lambda>(chisq, df)>"
      ]
     },
     "execution_count": 100,
     "metadata": {},
     "output_type": "execute_result"
    }
   ],
   "source": [
    "\n",
    "from scipy import stats\n",
    "\n",
    "res = lambda chisq, df: stats.chi2.sf(chisq, df)\n",
    "res"
   ]
  },
  {
   "cell_type": "code",
   "execution_count": 101,
   "id": "c515a615",
   "metadata": {},
   "outputs": [
    {
     "ename": "AttributeError",
     "evalue": "'function' object has no attribute 'summary'",
     "output_type": "error",
     "traceback": [
      "\u001b[1;31m---------------------------------------------------------------------------\u001b[0m",
      "\u001b[1;31mAttributeError\u001b[0m                            Traceback (most recent call last)",
      "\u001b[1;32m~\\AppData\\Local\\Temp/ipykernel_2476/2340415446.py\u001b[0m in \u001b[0;36m<module>\u001b[1;34m\u001b[0m\n\u001b[1;32m----> 1\u001b[1;33m \u001b[0mprint\u001b[0m\u001b[1;33m(\u001b[0m\u001b[0mres\u001b[0m\u001b[1;33m.\u001b[0m\u001b[0msummary\u001b[0m\u001b[1;33m)\u001b[0m\u001b[1;33m\u001b[0m\u001b[1;33m\u001b[0m\u001b[0m\n\u001b[0m",
      "\u001b[1;31mAttributeError\u001b[0m: 'function' object has no attribute 'summary'"
     ]
    }
   ],
   "source": []
  },
  {
   "cell_type": "code",
   "execution_count": 104,
   "id": "ed0daa11",
   "metadata": {},
   "outputs": [
    {
     "data": {
      "text/plain": [
       "(13.3364898989899,\n",
       " 0.0002602911116400899,\n",
       " 1,\n",
       " array([[50.4, 19.6],\n",
       "        [39.6, 15.4]]))"
      ]
     },
     "execution_count": 104,
     "metadata": {},
     "output_type": "execute_result"
    }
   ],
   "source": [
    "import numpy as np\n",
    "from scipy.stats import chi2_contingency \n",
    "# using Pearson’s chi-squared statistic\n",
    "# corrected for the Yates’ continuity\n",
    "observed = np.array([[60, 10], [30, 25]])\n",
    "chi_val, p_val, dof, expected =  chi2_contingency(observed)\n",
    "chi_val, p_val, dof, expected\n"
   ]
  },
  {
   "cell_type": "code",
   "execution_count": 105,
   "id": "de5561ba",
   "metadata": {},
   "outputs": [
    {
     "data": {
      "text/plain": [
       "(14.842300556586274,\n",
       " 0.00011688424010613195,\n",
       " 1,\n",
       " array([[50.4, 19.6],\n",
       "        [39.6, 15.4]]))"
      ]
     },
     "execution_count": 105,
     "metadata": {},
     "output_type": "execute_result"
    }
   ],
   "source": [
    "\n",
    "# without Yates’ correction for continuity\n",
    "chi_val, p_val, dof, expected =  chi2_contingency(observed, correction=False)\n",
    "chi_val, p_val, dof, expected\n",
    "       "
   ]
  },
  {
   "cell_type": "code",
   "execution_count": 106,
   "id": "786dd33b",
   "metadata": {},
   "outputs": [],
   "source": [
    "\n",
    "# for log-likelihood method run command as below\n",
    "chi_val, p_val, dof, expected =  chi2_contingency(observed, lambda_=\"log-likelihood\")"
   ]
  },
  {
   "cell_type": "code",
   "execution_count": null,
   "id": "6373bf16",
   "metadata": {},
   "outputs": [],
   "source": []
  },
  {
   "cell_type": "code",
   "execution_count": null,
   "id": "248566cf",
   "metadata": {},
   "outputs": [],
   "source": []
  },
  {
   "cell_type": "code",
   "execution_count": null,
   "id": "7979467d",
   "metadata": {},
   "outputs": [],
   "source": []
  }
 ],
 "metadata": {
  "kernelspec": {
   "display_name": "Python 3 (ipykernel)",
   "language": "python",
   "name": "python3"
  },
  "language_info": {
   "codemirror_mode": {
    "name": "ipython",
    "version": 3
   },
   "file_extension": ".py",
   "mimetype": "text/x-python",
   "name": "python",
   "nbconvert_exporter": "python",
   "pygments_lexer": "ipython3",
   "version": "3.8.8"
  }
 },
 "nbformat": 4,
 "nbformat_minor": 5
}
